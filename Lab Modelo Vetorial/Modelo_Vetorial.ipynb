{
  "nbformat": 4,
  "nbformat_minor": 0,
  "metadata": {
    "colab": {
      "name": "Modelo Vetorial.ipynb",
      "version": "0.3.2",
      "provenance": [],
      "toc_visible": true
    },
    "kernelspec": {
      "name": "python3",
      "display_name": "Python 3"
    }
  },
  "cells": [
    {
      "cell_type": "markdown",
      "metadata": {
        "id": "pMlQuiR3iGxu",
        "colab_type": "text"
      },
      "source": [
        "##Questão 1 \n",
        "Reconstruir o índice considerando o conjunto de dados que indicamos. Esses são os dados coletados por Bernardi e os estaremos usando para facilitar a correção da atividade. Se você já estiver usando esses dados não precisa reconstruir o índice;"
      ]
    },
    {
      "cell_type": "code",
      "metadata": {
        "id": "Vi-z9sECgg5E",
        "colab_type": "code",
        "outputId": "59923cb7-684f-4fc0-cf58-a1b0aae518cb",
        "colab": {
          "base_uri": "https://localhost:8080/",
          "height": 153
        }
      },
      "source": [
        "import pandas as pd\n",
        "import numpy as np\n",
        "import nltk\n",
        "import re\n",
        "import collections\n",
        "import bisect\n",
        "nltk.download('punkt')\n",
        "nltk.download('rslp')\n",
        "nltk.download('stopwords')\n",
        "\n",
        "\n",
        "nltk.download('stopwords')\n",
        "data = pd.read_csv('./results.csv', sep=',')\n",
        "\n",
        "\n",
        "textData = pd.DataFrame(data['text'], columns=['text'])\n",
        "textData['tokenizedText'] = data.apply(lambda row: nltk.word_tokenize(row['text'].lower(), language='portuguese'), axis=1)\n",
        "\n",
        "stopwords = nltk.corpus.stopwords.words('portuguese')\n",
        "\n",
        "index = {}\n",
        "document = 0\n",
        "\n",
        "for wordList in textData.tokenizedText:\n",
        "  document += 1\n",
        "  for word in wordList:\n",
        "    if word not in stopwords and len(word) >= 3:      \n",
        "      if word not in index.keys():\n",
        "        index[word] = []\n",
        "      index[word].append(document)\n",
        "      \n",
        "for elem in index.items():\n",
        "  d = dict(collections.Counter(elem[1]))\n",
        "  index[elem[0]] = list(d.items())\n",
        "  \n",
        "  \n",
        "index_df = pd.DataFrame()\n",
        "index_df['Word'] = index.keys()\n",
        "index_df['Documents and Frequencies'] = index.values()"
      ],
      "execution_count": 0,
      "outputs": [
        {
          "output_type": "stream",
          "text": [
            "[nltk_data] Downloading package punkt to /root/nltk_data...\n",
            "[nltk_data]   Package punkt is already up-to-date!\n",
            "[nltk_data] Downloading package rslp to /root/nltk_data...\n",
            "[nltk_data]   Package rslp is already up-to-date!\n",
            "[nltk_data] Downloading package stopwords to /root/nltk_data...\n",
            "[nltk_data]   Package stopwords is already up-to-date!\n",
            "[nltk_data] Downloading package stopwords to /root/nltk_data...\n",
            "[nltk_data]   Package stopwords is already up-to-date!\n"
          ],
          "name": "stdout"
        }
      ]
    },
    {
      "cell_type": "markdown",
      "metadata": {
        "id": "iBg_gJWVieqV",
        "colab_type": "text"
      },
      "source": [
        "#Questão 2\n",
        "Refinar o índice invertido de forma a também incluir o IDF (inverse document frequency) de cada termo do dicionário;"
      ]
    },
    {
      "cell_type": "code",
      "metadata": {
        "id": "M_5EBSEZhbCZ",
        "colab_type": "code",
        "outputId": "8809a1fc-01f0-4695-e0f0-8ff321451109",
        "colab": {
          "base_uri": "https://localhost:8080/",
          "height": 359
        }
      },
      "source": [
        "M = data.text.count()\n",
        "for word in index:\n",
        "  k = len(index[word])\n",
        "  IDF = round(np.log((M+1)/k),2)\n",
        "  index[word].append(IDF)\n",
        "  \n",
        "index_df['IDF'] = [i[-1] for i in index.values()]\n",
        "\n",
        "index_df.head(10)"
      ],
      "execution_count": 0,
      "outputs": [
        {
          "output_type": "execute_result",
          "data": {
            "text/html": [
              "<div>\n",
              "<style scoped>\n",
              "    .dataframe tbody tr th:only-of-type {\n",
              "        vertical-align: middle;\n",
              "    }\n",
              "\n",
              "    .dataframe tbody tr th {\n",
              "        vertical-align: top;\n",
              "    }\n",
              "\n",
              "    .dataframe thead th {\n",
              "        text-align: right;\n",
              "    }\n",
              "</style>\n",
              "<table border=\"1\" class=\"dataframe\">\n",
              "  <thead>\n",
              "    <tr style=\"text-align: right;\">\n",
              "      <th></th>\n",
              "      <th>Word</th>\n",
              "      <th>Documents and Frequencies</th>\n",
              "      <th>IDF</th>\n",
              "    </tr>\n",
              "  </thead>\n",
              "  <tbody>\n",
              "    <tr>\n",
              "      <th>0</th>\n",
              "      <td>juíza</td>\n",
              "      <td>[(1, 2), (2, 1), 4.83]</td>\n",
              "      <td>4.83</td>\n",
              "    </tr>\n",
              "    <tr>\n",
              "      <th>1</th>\n",
              "      <td>federal</td>\n",
              "      <td>[(1, 2), (2, 2), (3, 1), (6, 1), (7, 3), (15, ...</td>\n",
              "      <td>1.63</td>\n",
              "    </tr>\n",
              "    <tr>\n",
              "      <th>2</th>\n",
              "      <td>ivani</td>\n",
              "      <td>[(1, 1), (2, 1), 4.83]</td>\n",
              "      <td>4.83</td>\n",
              "    </tr>\n",
              "    <tr>\n",
              "      <th>3</th>\n",
              "      <td>silva</td>\n",
              "      <td>[(1, 3), (2, 1), (6, 1), (14, 1), (26, 1), (73...</td>\n",
              "      <td>3.04</td>\n",
              "    </tr>\n",
              "    <tr>\n",
              "      <th>4</th>\n",
              "      <td>luz</td>\n",
              "      <td>[(1, 3), (2, 1), (9, 1), (17, 1), (32, 2), (78...</td>\n",
              "      <td>2.63</td>\n",
              "    </tr>\n",
              "    <tr>\n",
              "      <th>5</th>\n",
              "      <td>brasília</td>\n",
              "      <td>[(1, 1), (8, 1), (33, 1), (35, 1), (44, 1), (4...</td>\n",
              "      <td>2.23</td>\n",
              "    </tr>\n",
              "    <tr>\n",
              "      <th>6</th>\n",
              "      <td>proibiu</td>\n",
              "      <td>[(1, 1), (2, 1), (119, 1), (162, 1), 4.14]</td>\n",
              "      <td>4.14</td>\n",
              "    </tr>\n",
              "    <tr>\n",
              "      <th>7</th>\n",
              "      <td>caráter</td>\n",
              "      <td>[(1, 1), (15, 1), (36, 1), (60, 1), (89, 1), (...</td>\n",
              "      <td>3.22</td>\n",
              "    </tr>\n",
              "    <tr>\n",
              "      <th>8</th>\n",
              "      <td>liminar</td>\n",
              "      <td>[(1, 1), (2, 3), (119, 1), (217, 1), 4.14]</td>\n",
              "      <td>4.14</td>\n",
              "    </tr>\n",
              "    <tr>\n",
              "      <th>9</th>\n",
              "      <td>nesta</td>\n",
              "      <td>[(1, 2), (4, 1), (8, 1), (21, 1), (22, 2), (23...</td>\n",
              "      <td>0.93</td>\n",
              "    </tr>\n",
              "  </tbody>\n",
              "</table>\n",
              "</div>"
            ],
            "text/plain": [
              "       Word                          Documents and Frequencies   IDF\n",
              "0     juíza                             [(1, 2), (2, 1), 4.83]  4.83\n",
              "1   federal  [(1, 2), (2, 2), (3, 1), (6, 1), (7, 3), (15, ...  1.63\n",
              "2     ivani                             [(1, 1), (2, 1), 4.83]  4.83\n",
              "3     silva  [(1, 3), (2, 1), (6, 1), (14, 1), (26, 1), (73...  3.04\n",
              "4       luz  [(1, 3), (2, 1), (9, 1), (17, 1), (32, 2), (78...  2.63\n",
              "5  brasília  [(1, 1), (8, 1), (33, 1), (35, 1), (44, 1), (4...  2.23\n",
              "6   proibiu         [(1, 1), (2, 1), (119, 1), (162, 1), 4.14]  4.14\n",
              "7   caráter  [(1, 1), (15, 1), (36, 1), (60, 1), (89, 1), (...  3.22\n",
              "8   liminar         [(1, 1), (2, 3), (119, 1), (217, 1), 4.14]  4.14\n",
              "9     nesta  [(1, 2), (4, 1), (8, 1), (21, 1), (22, 2), (23...  0.93"
            ]
          },
          "metadata": {
            "tags": []
          },
          "execution_count": 28
        }
      ]
    },
    {
      "cell_type": "markdown",
      "metadata": {
        "id": "OzwopIIjrGSI",
        "colab_type": "text"
      },
      "source": [
        "#Questão 3\n",
        "\n",
        "Implementar as seguintes versões do modelo vetorial:\n",
        "\n",
        "\n",
        "\n",
        "*   Representação binária\n",
        "*   TF\n",
        "*   TF-IDF\n",
        "*   BM25\n",
        "\n",
        "\n",
        "As funções que criam esses modelos serão implementadas abaixo.\n",
        "\n"
      ]
    },
    {
      "cell_type": "code",
      "metadata": {
        "id": "s5-nncHyrdKI",
        "colab_type": "code",
        "colab": {}
      },
      "source": [
        "def binary(query, document):\n",
        "  score = 0\n",
        "  query_tokens = query.split()\n",
        "  doc_tokens = document.split()\n",
        "  \n",
        "  for token in query_tokens:\n",
        "    score += (token in doc_tokens)\n",
        "    \n",
        "  return score"
      ],
      "execution_count": 0,
      "outputs": []
    },
    {
      "cell_type": "code",
      "metadata": {
        "id": "YiZsTSKhrgJq",
        "colab_type": "code",
        "colab": {}
      },
      "source": [
        "def tf(query, document):\n",
        "  score = 0\n",
        "  doc_tokens = document.split()\n",
        "  query_tokens = query.split()\n",
        "  \n",
        "  for word in query_tokens:\n",
        "    score += doc_tokens.count(word)\n",
        "  \n",
        "  return score"
      ],
      "execution_count": 0,
      "outputs": []
    },
    {
      "cell_type": "code",
      "metadata": {
        "id": "wzkcFPgnrpqZ",
        "colab_type": "code",
        "colab": {}
      },
      "source": [
        "def tf_idf(query, document):\n",
        "  score = 0\n",
        "  doc_tokens = document.split()\n",
        "  query_tokens = query.split()\n",
        "  \n",
        "  for word in query_tokens:\n",
        "    cwd = doc_tokens.count(word)\n",
        "    if word in index:\n",
        "      score += cwd * index[word][-1]\n",
        "  \n",
        "  return round(score,2)"
      ],
      "execution_count": 0,
      "outputs": []
    },
    {
      "cell_type": "code",
      "metadata": {
        "id": "9Lwz_SM9rydA",
        "colab_type": "code",
        "colab": {}
      },
      "source": [
        "def bm25(query, document, k):\n",
        "  score = 0\n",
        "  doc_tokens = document.split()\n",
        "  query_tokens = query.split()\n",
        "  \n",
        "  words = [word for word in query_tokens if word in doc_tokens]\n",
        "    \n",
        "  for word in words:\n",
        "    cwd = doc_tokens.count(word)\n",
        "    dfw = 0\n",
        "    if word in index:\n",
        "      dfw = len(index[word][:-1])\n",
        "    score += (((k+1) * cwd) / (cwd + k)) * np.log10(((M+1) / dfw)) if dfw != 0 else 0\n",
        "  \n",
        "  return round(score,2)"
      ],
      "execution_count": 0,
      "outputs": []
    },
    {
      "cell_type": "markdown",
      "metadata": {
        "id": "poQaV3wNr5QI",
        "colab_type": "text"
      },
      "source": [
        "#Questão 4\n",
        "Execute os algoritmos separadamente em 3 consultas de sua escolha e retorne os top-5 documentos mais similares à cada consulta;"
      ]
    },
    {
      "cell_type": "code",
      "metadata": {
        "id": "K0lxzBNpsYQB",
        "colab_type": "code",
        "colab": {}
      },
      "source": [
        "queries = ['lula', 'netflix', 'educação']\n",
        "\n",
        "def create_top5_models(query):\n",
        "  n = 0\n",
        "  db = []\n",
        "  dtf = []\n",
        "  dtfidf = []\n",
        "  dbm25 = []\n",
        "  for doc in data.text:\n",
        "    doc = doc.lower()\n",
        "    n += 1\n",
        "    bisect.insort(db, (binary(query, doc), n))\n",
        "    bisect.insort(dtf, (tf(query,doc), n))\n",
        "    bisect.insort(dtfidf, (tf_idf(query,doc), n))\n",
        "    bisect.insort(dbm25, (bm25(query,doc,20), n))\n",
        "  \n",
        "  db.reverse()\n",
        "  dtf.reverse()\n",
        "  dtfidf.reverse()\n",
        "  dbm25.reverse()\n",
        "  \n",
        "  return db[:5], dtf[:5], dtfidf[:5], dbm25[:5]"
      ],
      "execution_count": 0,
      "outputs": []
    },
    {
      "cell_type": "code",
      "metadata": {
        "id": "gx7SoFTCs3zw",
        "colab_type": "code",
        "outputId": "1b3cb14d-d970-43ee-de4f-503a43f93368",
        "colab": {
          "base_uri": "https://localhost:8080/",
          "height": 193
        }
      },
      "source": [
        "top5_binary = ['','','']\n",
        "top5_tf = ['','','']\n",
        "top5_tf_idf = ['','','']\n",
        "top5_bm25 = ['','','']\n",
        "\n",
        "top5_binary[0], top5_tf[0], top5_tf_idf[0], top5_bm25[0] = create_top5_models(queries[0])\n",
        "top5_binary[1], top5_tf[1], top5_tf_idf[1], top5_bm25[1] = create_top5_models(queries[1])\n",
        "top5_binary[2], top5_tf[2], top5_tf_idf[2], top5_bm25[2] = create_top5_models(queries[2])\n",
        "\n",
        "\n",
        "query_df = pd.DataFrame()\n",
        "\n",
        "query_df['Query'] = queries\n",
        "query_df['Binary'] = top5_binary\n",
        "query_df['TF'] = top5_tf\n",
        "query_df['TF-IDF'] = top5_tf_idf\n",
        "query_df['BM25'] = top5_bm25\n",
        "\n",
        "query_df.index+=1\n",
        "query_df"
      ],
      "execution_count": 0,
      "outputs": [
        {
          "output_type": "execute_result",
          "data": {
            "text/html": [
              "<div>\n",
              "<style scoped>\n",
              "    .dataframe tbody tr th:only-of-type {\n",
              "        vertical-align: middle;\n",
              "    }\n",
              "\n",
              "    .dataframe tbody tr th {\n",
              "        vertical-align: top;\n",
              "    }\n",
              "\n",
              "    .dataframe thead th {\n",
              "        text-align: right;\n",
              "    }\n",
              "</style>\n",
              "<table border=\"1\" class=\"dataframe\">\n",
              "  <thead>\n",
              "    <tr style=\"text-align: right;\">\n",
              "      <th></th>\n",
              "      <th>Query</th>\n",
              "      <th>Binary</th>\n",
              "      <th>TF</th>\n",
              "      <th>TF-IDF</th>\n",
              "      <th>BM25</th>\n",
              "    </tr>\n",
              "  </thead>\n",
              "  <tbody>\n",
              "    <tr>\n",
              "      <th>1</th>\n",
              "      <td>lula</td>\n",
              "      <td>[(1, 236), (1, 234), (1, 226), (1, 216), (1, 2...</td>\n",
              "      <td>[(9, 15), (3, 234), (2, 226), (2, 204), (1, 236)]</td>\n",
              "      <td>[(27.36, 15), (9.12, 234), (6.08, 226), (6.08,...</td>\n",
              "      <td>[(8.59, 15), (3.61, 234), (2.52, 226), (2.52, ...</td>\n",
              "    </tr>\n",
              "    <tr>\n",
              "      <th>2</th>\n",
              "      <td>netflix</td>\n",
              "      <td>[(1, 200), (0, 249), (0, 248), (0, 247), (0, 2...</td>\n",
              "      <td>[(1, 200), (0, 249), (0, 248), (0, 247), (0, 2...</td>\n",
              "      <td>[(4.83, 200), (0.0, 249), (0.0, 248), (0.0, 24...</td>\n",
              "      <td>[(2.1, 200), (0, 249), (0, 248), (0, 247), (0,...</td>\n",
              "    </tr>\n",
              "    <tr>\n",
              "      <th>3</th>\n",
              "      <td>educação</td>\n",
              "      <td>[(1, 248), (1, 240), (1, 239), (1, 233), (1, 2...</td>\n",
              "      <td>[(15, 221), (8, 222), (6, 239), (6, 130), (5, ...</td>\n",
              "      <td>[(33.45, 221), (17.84, 222), (13.38, 239), (13...</td>\n",
              "      <td>[(8.7, 221), (5.8, 222), (4.68, 239), (4.68, 1...</td>\n",
              "    </tr>\n",
              "  </tbody>\n",
              "</table>\n",
              "</div>"
            ],
            "text/plain": [
              "      Query  ...                                               BM25\n",
              "1      lula  ...  [(8.59, 15), (3.61, 234), (2.52, 226), (2.52, ...\n",
              "2   netflix  ...  [(2.1, 200), (0, 249), (0, 248), (0, 247), (0,...\n",
              "3  educação  ...  [(8.7, 221), (5.8, 222), (4.68, 239), (4.68, 1...\n",
              "\n",
              "[3 rows x 5 columns]"
            ]
          },
          "metadata": {
            "tags": []
          },
          "execution_count": 34
        }
      ]
    },
    {
      "cell_type": "markdown",
      "metadata": {
        "id": "7xHXxtRwt5UR",
        "colab_type": "text"
      },
      "source": [
        "#Questão 5\n",
        "\n",
        "Compare os resultados encontrados e responda:\n",
        "\n",
        "\n",
        "*   Quais modelos você acha que trouxe os melhores resultados? Por que? Inspecione os documentos retornados para melhor embasar sua resposta.\n",
        "\n",
        "*   Calcule e reporte o overlap par-a-par entre os resultados de cada modelo, usando o índice de Jaccard.\n",
        "\n"
      ]
    },
    {
      "cell_type": "markdown",
      "metadata": {
        "id": "4dKZEGDbwIxa",
        "colab_type": "text"
      },
      "source": [
        "##Quais modelos você acha que trouxe os melhores resultados? Por que? Inspecione os documentos retornados para melhor embasar sua resposta."
      ]
    },
    {
      "cell_type": "code",
      "metadata": {
        "id": "fJhwYRa8uSR6",
        "colab_type": "code",
        "colab": {}
      },
      "source": [
        "def get_top1_score(top5):\n",
        "  return [top[0][0] for top in top5]\n",
        "\n",
        "def get_top1_doc(top5):\n",
        "  return [top[0][1] for top in top5]\n",
        "\n",
        "def get_doc_title(docs):\n",
        "  return [data.title[doc] for doc in docs]"
      ],
      "execution_count": 0,
      "outputs": []
    },
    {
      "cell_type": "code",
      "metadata": {
        "id": "FlGuICocuZ1q",
        "colab_type": "code",
        "colab": {}
      },
      "source": [
        "score_top5_binary = get_top1_score(top5_binary)\n",
        "score_top5_tf = get_top1_score(top5_tf)\n",
        "score_top5_tf_idf = get_top1_score(top5_tf_idf)\n",
        "score_top5_bm25 = get_top1_score(top5_bm25)\n",
        "\n",
        "doc_top5_binary = get_top1_doc(top5_binary)\n",
        "doc_top5_tf = get_top1_doc(top5_tf)\n",
        "doc_top5_tf_idf = get_top1_doc(top5_tf_idf)\n",
        "doc_top5_bm25 = get_top1_doc(top5_bm25)\n",
        "\n",
        "titles_binary = get_doc_title(doc_top5_binary)\n",
        "titles_tf = get_doc_title(doc_top5_tf)\n",
        "titles_tf_idf = get_doc_title(doc_top5_tf_idf)\n",
        "titles_bm25 = get_doc_title(doc_top5_bm25)"
      ],
      "execution_count": 0,
      "outputs": []
    },
    {
      "cell_type": "code",
      "metadata": {
        "id": "rGl2uVi2uxT5",
        "colab_type": "code",
        "outputId": "074cad1f-40d6-4d45-97cf-7f61e09e63f4",
        "colab": {
          "base_uri": "https://localhost:8080/",
          "height": 142
        }
      },
      "source": [
        "binary_table = pd.DataFrame()\n",
        "binary_table['Query'] = queries\n",
        "binary_table['Document'] = doc_top5_binary\n",
        "binary_table['Document Title'] = titles_binary\n",
        "binary_table['Binary Score'] = score_top5_binary\n",
        "\n",
        "binary_table.index += 1\n",
        "binary_table"
      ],
      "execution_count": 0,
      "outputs": [
        {
          "output_type": "execute_result",
          "data": {
            "text/html": [
              "<div>\n",
              "<style scoped>\n",
              "    .dataframe tbody tr th:only-of-type {\n",
              "        vertical-align: middle;\n",
              "    }\n",
              "\n",
              "    .dataframe tbody tr th {\n",
              "        vertical-align: top;\n",
              "    }\n",
              "\n",
              "    .dataframe thead th {\n",
              "        text-align: right;\n",
              "    }\n",
              "</style>\n",
              "<table border=\"1\" class=\"dataframe\">\n",
              "  <thead>\n",
              "    <tr style=\"text-align: right;\">\n",
              "      <th></th>\n",
              "      <th>Query</th>\n",
              "      <th>Document</th>\n",
              "      <th>Document Title</th>\n",
              "      <th>Binary Score</th>\n",
              "    </tr>\n",
              "  </thead>\n",
              "  <tbody>\n",
              "    <tr>\n",
              "      <th>1</th>\n",
              "      <td>lula</td>\n",
              "      <td>236</td>\n",
              "      <td>Bolsonaro anuncia 13º salário para o Bolsa Fam...</td>\n",
              "      <td>1</td>\n",
              "    </tr>\n",
              "    <tr>\n",
              "      <th>2</th>\n",
              "      <td>netflix</td>\n",
              "      <td>200</td>\n",
              "      <td>O ‘Abaporu’ visita São Paulo</td>\n",
              "      <td>1</td>\n",
              "    </tr>\n",
              "    <tr>\n",
              "      <th>3</th>\n",
              "      <td>educação</td>\n",
              "      <td>248</td>\n",
              "      <td>As três espanholas do Estado Islâmico: “Só que...</td>\n",
              "      <td>1</td>\n",
              "    </tr>\n",
              "  </tbody>\n",
              "</table>\n",
              "</div>"
            ],
            "text/plain": [
              "      Query  ...  Binary Score\n",
              "1      lula  ...             1\n",
              "2   netflix  ...             1\n",
              "3  educação  ...             1\n",
              "\n",
              "[3 rows x 4 columns]"
            ]
          },
          "metadata": {
            "tags": []
          },
          "execution_count": 37
        }
      ]
    },
    {
      "cell_type": "code",
      "metadata": {
        "id": "JbzIHKjhvMcQ",
        "colab_type": "code",
        "outputId": "0d33bd2e-0998-4546-c170-bef20d51597a",
        "colab": {
          "base_uri": "https://localhost:8080/",
          "height": 142
        }
      },
      "source": [
        "tf_table = pd.DataFrame()\n",
        "tf_table['Query'] = queries\n",
        "tf_table['Document'] = doc_top5_tf\n",
        "tf_table['Document Title'] = titles_tf\n",
        "tf_table['TF Score'] = score_top5_tf\n",
        "\n",
        "tf_table.index += 1\n",
        "tf_table"
      ],
      "execution_count": 0,
      "outputs": [
        {
          "output_type": "execute_result",
          "data": {
            "text/html": [
              "<div>\n",
              "<style scoped>\n",
              "    .dataframe tbody tr th:only-of-type {\n",
              "        vertical-align: middle;\n",
              "    }\n",
              "\n",
              "    .dataframe tbody tr th {\n",
              "        vertical-align: top;\n",
              "    }\n",
              "\n",
              "    .dataframe thead th {\n",
              "        text-align: right;\n",
              "    }\n",
              "</style>\n",
              "<table border=\"1\" class=\"dataframe\">\n",
              "  <thead>\n",
              "    <tr style=\"text-align: right;\">\n",
              "      <th></th>\n",
              "      <th>Query</th>\n",
              "      <th>Document</th>\n",
              "      <th>Document Title</th>\n",
              "      <th>TF Score</th>\n",
              "    </tr>\n",
              "  </thead>\n",
              "  <tbody>\n",
              "    <tr>\n",
              "      <th>1</th>\n",
              "      <td>lula</td>\n",
              "      <td>15</td>\n",
              "      <td>A tragédia da Ucrânia</td>\n",
              "      <td>9</td>\n",
              "    </tr>\n",
              "    <tr>\n",
              "      <th>2</th>\n",
              "      <td>netflix</td>\n",
              "      <td>200</td>\n",
              "      <td>O ‘Abaporu’ visita São Paulo</td>\n",
              "      <td>1</td>\n",
              "    </tr>\n",
              "    <tr>\n",
              "      <th>3</th>\n",
              "      <td>educação</td>\n",
              "      <td>221</td>\n",
              "      <td>A jovem deputada que jogou contra as cordas o ...</td>\n",
              "      <td>15</td>\n",
              "    </tr>\n",
              "  </tbody>\n",
              "</table>\n",
              "</div>"
            ],
            "text/plain": [
              "      Query  ...  TF Score\n",
              "1      lula  ...         9\n",
              "2   netflix  ...         1\n",
              "3  educação  ...        15\n",
              "\n",
              "[3 rows x 4 columns]"
            ]
          },
          "metadata": {
            "tags": []
          },
          "execution_count": 38
        }
      ]
    },
    {
      "cell_type": "code",
      "metadata": {
        "id": "BrgCemKmvUr6",
        "colab_type": "code",
        "outputId": "bfefa0aa-53b6-4a56-d391-fb1f03f0eb38",
        "colab": {
          "base_uri": "https://localhost:8080/",
          "height": 142
        }
      },
      "source": [
        "tf_idf_table = pd.DataFrame()\n",
        "tf_idf_table['Query'] = queries\n",
        "tf_idf_table['Document'] = doc_top5_tf_idf\n",
        "tf_idf_table['Document Title'] = titles_tf_idf\n",
        "tf_idf_table['TFIDF Score'] = score_top5_tf_idf\n",
        "\n",
        "tf_idf_table.index += 1\n",
        "tf_idf_table"
      ],
      "execution_count": 0,
      "outputs": [
        {
          "output_type": "execute_result",
          "data": {
            "text/html": [
              "<div>\n",
              "<style scoped>\n",
              "    .dataframe tbody tr th:only-of-type {\n",
              "        vertical-align: middle;\n",
              "    }\n",
              "\n",
              "    .dataframe tbody tr th {\n",
              "        vertical-align: top;\n",
              "    }\n",
              "\n",
              "    .dataframe thead th {\n",
              "        text-align: right;\n",
              "    }\n",
              "</style>\n",
              "<table border=\"1\" class=\"dataframe\">\n",
              "  <thead>\n",
              "    <tr style=\"text-align: right;\">\n",
              "      <th></th>\n",
              "      <th>Query</th>\n",
              "      <th>Document</th>\n",
              "      <th>Document Title</th>\n",
              "      <th>TFIDF Score</th>\n",
              "    </tr>\n",
              "  </thead>\n",
              "  <tbody>\n",
              "    <tr>\n",
              "      <th>1</th>\n",
              "      <td>lula</td>\n",
              "      <td>15</td>\n",
              "      <td>A tragédia da Ucrânia</td>\n",
              "      <td>27.36</td>\n",
              "    </tr>\n",
              "    <tr>\n",
              "      <th>2</th>\n",
              "      <td>netflix</td>\n",
              "      <td>200</td>\n",
              "      <td>O ‘Abaporu’ visita São Paulo</td>\n",
              "      <td>4.83</td>\n",
              "    </tr>\n",
              "    <tr>\n",
              "      <th>3</th>\n",
              "      <td>educação</td>\n",
              "      <td>221</td>\n",
              "      <td>A jovem deputada que jogou contra as cordas o ...</td>\n",
              "      <td>33.45</td>\n",
              "    </tr>\n",
              "  </tbody>\n",
              "</table>\n",
              "</div>"
            ],
            "text/plain": [
              "      Query  ...  TFIDF Score\n",
              "1      lula  ...        27.36\n",
              "2   netflix  ...         4.83\n",
              "3  educação  ...        33.45\n",
              "\n",
              "[3 rows x 4 columns]"
            ]
          },
          "metadata": {
            "tags": []
          },
          "execution_count": 39
        }
      ]
    },
    {
      "cell_type": "code",
      "metadata": {
        "id": "Al2z3M5Hvgm5",
        "colab_type": "code",
        "outputId": "d4e1c514-98b2-4d2c-c4af-bebac93e5da6",
        "colab": {
          "base_uri": "https://localhost:8080/",
          "height": 142
        }
      },
      "source": [
        "bm25_table = pd.DataFrame()\n",
        "bm25_table['Query'] = queries\n",
        "bm25_table['Document'] = doc_top5_bm25\n",
        "bm25_table['Document Title'] = titles_bm25\n",
        "bm25_table['BM25 Score'] = score_top5_bm25\n",
        "\n",
        "bm25_table.index += 1\n",
        "bm25_table"
      ],
      "execution_count": 0,
      "outputs": [
        {
          "output_type": "execute_result",
          "data": {
            "text/html": [
              "<div>\n",
              "<style scoped>\n",
              "    .dataframe tbody tr th:only-of-type {\n",
              "        vertical-align: middle;\n",
              "    }\n",
              "\n",
              "    .dataframe tbody tr th {\n",
              "        vertical-align: top;\n",
              "    }\n",
              "\n",
              "    .dataframe thead th {\n",
              "        text-align: right;\n",
              "    }\n",
              "</style>\n",
              "<table border=\"1\" class=\"dataframe\">\n",
              "  <thead>\n",
              "    <tr style=\"text-align: right;\">\n",
              "      <th></th>\n",
              "      <th>Query</th>\n",
              "      <th>Document</th>\n",
              "      <th>Document Title</th>\n",
              "      <th>BM25 Score</th>\n",
              "    </tr>\n",
              "  </thead>\n",
              "  <tbody>\n",
              "    <tr>\n",
              "      <th>1</th>\n",
              "      <td>lula</td>\n",
              "      <td>15</td>\n",
              "      <td>A tragédia da Ucrânia</td>\n",
              "      <td>8.59</td>\n",
              "    </tr>\n",
              "    <tr>\n",
              "      <th>2</th>\n",
              "      <td>netflix</td>\n",
              "      <td>200</td>\n",
              "      <td>O ‘Abaporu’ visita São Paulo</td>\n",
              "      <td>2.10</td>\n",
              "    </tr>\n",
              "    <tr>\n",
              "      <th>3</th>\n",
              "      <td>educação</td>\n",
              "      <td>221</td>\n",
              "      <td>A jovem deputada que jogou contra as cordas o ...</td>\n",
              "      <td>8.70</td>\n",
              "    </tr>\n",
              "  </tbody>\n",
              "</table>\n",
              "</div>"
            ],
            "text/plain": [
              "      Query  ...  BM25 Score\n",
              "1      lula  ...        8.59\n",
              "2   netflix  ...        2.10\n",
              "3  educação  ...        8.70\n",
              "\n",
              "[3 rows x 4 columns]"
            ]
          },
          "metadata": {
            "tags": []
          },
          "execution_count": 40
        }
      ]
    },
    {
      "cell_type": "markdown",
      "metadata": {
        "id": "pVc8QBJ8v1Dy",
        "colab_type": "text"
      },
      "source": [
        "De acordo com as tabelas mostradas acima, podemos concluir que o algoritmo TF-IDF é o que apresenta os melhores scores para os documentos encontrados em cada query."
      ]
    },
    {
      "cell_type": "markdown",
      "metadata": {
        "id": "dRxN7SctwLEQ",
        "colab_type": "text"
      },
      "source": [
        "##Calcule e reporte o overlap par-a-par entre os resultados de cada modelo, usando o índice de Jaccard."
      ]
    },
    {
      "cell_type": "code",
      "metadata": {
        "id": "CqC6qvmCwQHI",
        "colab_type": "code",
        "colab": {}
      },
      "source": [
        "def inter_size(a,b):\n",
        "  return len([elem for elem in a if elem in b])\n",
        "\n",
        "def jaccard_index(a,b):\n",
        "  n_a = len(a)\n",
        "  n_b = len(b)\n",
        "  n_ab = inter_size(a,b)\n",
        "  exp = n_a + n_b - n_ab\n",
        "  jaccard = n_ab / exp if exp != 0 else 0\n",
        "  return jaccard"
      ],
      "execution_count": 0,
      "outputs": []
    },
    {
      "cell_type": "code",
      "metadata": {
        "id": "XT12udolwToQ",
        "colab_type": "code",
        "outputId": "94c4bbf6-fadf-46f6-9ae4-442e3ebb1804",
        "colab": {
          "base_uri": "https://localhost:8080/",
          "height": 204
        }
      },
      "source": [
        "all_docs = []\n",
        "all_docs.append(doc_top5_binary)\n",
        "all_docs.append(doc_top5_bm25)\n",
        "all_docs.append(doc_top5_tf)\n",
        "all_docs.append(doc_top5_tf_idf)\n",
        "\n",
        "matrix = [['Measure', 'Binary', 'TF', 'TF-IDF', 'BM25']]\n",
        "titles = matrix\n",
        "for i in range(len(all_docs)):\n",
        "  line = []\n",
        "  for j in range(len(all_docs)):\n",
        "    jaccard = jaccard_index(all_docs[i], all_docs[j])\n",
        "    line.append(round(jaccard,2))\n",
        "  matrix.append(line)\n",
        "for i in range(1, len(matrix)):\n",
        "  matrix[i].insert(0, matrix[0][i])\n",
        "  \n",
        "pd.DataFrame(matrix)"
      ],
      "execution_count": 0,
      "outputs": [
        {
          "output_type": "execute_result",
          "data": {
            "text/html": [
              "<div>\n",
              "<style scoped>\n",
              "    .dataframe tbody tr th:only-of-type {\n",
              "        vertical-align: middle;\n",
              "    }\n",
              "\n",
              "    .dataframe tbody tr th {\n",
              "        vertical-align: top;\n",
              "    }\n",
              "\n",
              "    .dataframe thead th {\n",
              "        text-align: right;\n",
              "    }\n",
              "</style>\n",
              "<table border=\"1\" class=\"dataframe\">\n",
              "  <thead>\n",
              "    <tr style=\"text-align: right;\">\n",
              "      <th></th>\n",
              "      <th>0</th>\n",
              "      <th>1</th>\n",
              "      <th>2</th>\n",
              "      <th>3</th>\n",
              "      <th>4</th>\n",
              "    </tr>\n",
              "  </thead>\n",
              "  <tbody>\n",
              "    <tr>\n",
              "      <th>0</th>\n",
              "      <td>Measure</td>\n",
              "      <td>Binary</td>\n",
              "      <td>TF</td>\n",
              "      <td>TF-IDF</td>\n",
              "      <td>BM25</td>\n",
              "    </tr>\n",
              "    <tr>\n",
              "      <th>1</th>\n",
              "      <td>Binary</td>\n",
              "      <td>1</td>\n",
              "      <td>0.2</td>\n",
              "      <td>0.2</td>\n",
              "      <td>0.2</td>\n",
              "    </tr>\n",
              "    <tr>\n",
              "      <th>2</th>\n",
              "      <td>TF</td>\n",
              "      <td>0.2</td>\n",
              "      <td>1</td>\n",
              "      <td>1</td>\n",
              "      <td>1</td>\n",
              "    </tr>\n",
              "    <tr>\n",
              "      <th>3</th>\n",
              "      <td>TF-IDF</td>\n",
              "      <td>0.2</td>\n",
              "      <td>1</td>\n",
              "      <td>1</td>\n",
              "      <td>1</td>\n",
              "    </tr>\n",
              "    <tr>\n",
              "      <th>4</th>\n",
              "      <td>BM25</td>\n",
              "      <td>0.2</td>\n",
              "      <td>1</td>\n",
              "      <td>1</td>\n",
              "      <td>1</td>\n",
              "    </tr>\n",
              "  </tbody>\n",
              "</table>\n",
              "</div>"
            ],
            "text/plain": [
              "         0       1    2       3     4\n",
              "0  Measure  Binary   TF  TF-IDF  BM25\n",
              "1   Binary       1  0.2     0.2   0.2\n",
              "2       TF     0.2    1       1     1\n",
              "3   TF-IDF     0.2    1       1     1\n",
              "4     BM25     0.2    1       1     1"
            ]
          },
          "metadata": {
            "tags": []
          },
          "execution_count": 42
        }
      ]
    },
    {
      "cell_type": "markdown",
      "metadata": {
        "id": "qBIgKMeywVgJ",
        "colab_type": "text"
      },
      "source": [
        "Atráves do indíce de Jaccard mostrado acima, comparando os algoritmos utilizados, podemos concluir que o modelo binário para essas consultas é o único que não apresenta, pelo indíce, igualdade com os outros modelos. "
      ]
    }
  ]
}