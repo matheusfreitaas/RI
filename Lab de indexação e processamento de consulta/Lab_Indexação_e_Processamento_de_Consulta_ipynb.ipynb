{
  "nbformat": 4,
  "nbformat_minor": 0,
  "metadata": {
    "colab": {
      "name": "Lab - Indexação e Processamento de Consulta.ipynb.ipynb",
      "version": "0.3.2",
      "provenance": [],
      "toc_visible": true
    },
    "kernelspec": {
      "name": "python3",
      "display_name": "Python 3"
    }
  },
  "cells": [
    {
      "cell_type": "markdown",
      "metadata": {
        "id": "1mtq40F1Dk2h",
        "colab_type": "text"
      },
      "source": [
        "Nesse exercício, utilizaremos o conceito de indíce invertido, com a quantidade de ocorrências da palavra no documento, para a melhora na eficiência de consultas. Essa forma de armazenamento dos tokens, se dá mapeando documentos a palavras, ao invés do palavras a documentos, como vinhamos fazendo nos exercícios anteriores."
      ]
    },
    {
      "cell_type": "code",
      "metadata": {
        "id": "xr56RBQFDhiq",
        "colab_type": "code",
        "colab": {
          "base_uri": "https://localhost:8080/",
          "height": 136
        },
        "outputId": "8c0cbe33-1ef1-4add-9763-2b01748d6754"
      },
      "source": [
        "import pandas as pd\n",
        "import collections\n",
        "import heapq\n",
        "import time\n",
        "import operator\n",
        "import csv\n",
        "import nltk\n",
        "import string\n",
        "nltk.download('punkt')\n",
        "nltk.download('rslp')\n",
        "nltk.download('stopwords')"
      ],
      "execution_count": 29,
      "outputs": [
        {
          "output_type": "stream",
          "text": [
            "[nltk_data] Downloading package punkt to /root/nltk_data...\n",
            "[nltk_data]   Package punkt is already up-to-date!\n",
            "[nltk_data] Downloading package rslp to /root/nltk_data...\n",
            "[nltk_data]   Package rslp is already up-to-date!\n",
            "[nltk_data] Downloading package stopwords to /root/nltk_data...\n",
            "[nltk_data]   Package stopwords is already up-to-date!\n"
          ],
          "name": "stdout"
        },
        {
          "output_type": "execute_result",
          "data": {
            "text/plain": [
              "True"
            ]
          },
          "metadata": {
            "tags": []
          },
          "execution_count": 29
        }
      ]
    },
    {
      "cell_type": "markdown",
      "metadata": {
        "id": "cV_ozA2aDoXG",
        "colab_type": "text"
      },
      "source": [
        "# Questão 1\n",
        "\n",
        "\n",
        "Construiremos abaixo o indíce invertido a partir da mesma coleção utilizada previamente, e o armazenaremos em um arquivo **.csv**."
      ]
    },
    {
      "cell_type": "code",
      "metadata": {
        "id": "9RQzViF3DqYP",
        "colab_type": "code",
        "colab": {
          "base_uri": "https://localhost:8080/",
          "height": 493
        },
        "outputId": "01865479-7a20-4799-a543-1be7b051c490"
      },
      "source": [
        "data = pd.read_csv('./results.csv', sep=',')\n",
        "data.head()"
      ],
      "execution_count": 30,
      "outputs": [
        {
          "output_type": "execute_result",
          "data": {
            "text/html": [
              "<div>\n",
              "<style scoped>\n",
              "    .dataframe tbody tr th:only-of-type {\n",
              "        vertical-align: middle;\n",
              "    }\n",
              "\n",
              "    .dataframe tbody tr th {\n",
              "        vertical-align: top;\n",
              "    }\n",
              "\n",
              "    .dataframe thead th {\n",
              "        text-align: right;\n",
              "    }\n",
              "</style>\n",
              "<table border=\"1\" class=\"dataframe\">\n",
              "  <thead>\n",
              "    <tr style=\"text-align: right;\">\n",
              "      <th></th>\n",
              "      <th>title</th>\n",
              "      <th>subtitle</th>\n",
              "      <th>author</th>\n",
              "      <th>date</th>\n",
              "      <th>section</th>\n",
              "      <th>text</th>\n",
              "      <th>url</th>\n",
              "    </tr>\n",
              "  </thead>\n",
              "  <tbody>\n",
              "    <tr>\n",
              "      <th>0</th>\n",
              "      <td>“A sociedade foi Rubens Paiva  não os facínora...</td>\n",
              "      <td>A decisão da juíza que proíbe as Forças Armada...</td>\n",
              "      <td>F. M.</td>\n",
              "      <td>30/03/2019 00:11:08</td>\n",
              "      <td>Brasil</td>\n",
              "      <td>A juíza federal Ivani Silva da Luz  de Brasíli...</td>\n",
              "      <td>https://brasil.elpais.com/brasil/2019/03/26/po...</td>\n",
              "    </tr>\n",
              "    <tr>\n",
              "      <th>1</th>\n",
              "      <td>Justiça suspende decisão que proibia Forças Ar...</td>\n",
              "      <td>Liminar havia sido concedida na sexta-feira a ...</td>\n",
              "      <td>Marina Rossi</td>\n",
              "      <td>30/03/2019 16:17:59</td>\n",
              "      <td>Brasil</td>\n",
              "      <td>Menos de 24 horas depois de a juíza federal Iv...</td>\n",
              "      <td>https://brasil.elpais.com/brasil/2019/03/30/po...</td>\n",
              "    </tr>\n",
              "    <tr>\n",
              "      <th>2</th>\n",
              "      <td>Governo Bolsonaro prega “negacionismo históric...</td>\n",
              "      <td>Marcos Napolitano  professor da USP  diz que o...</td>\n",
              "      <td>Regiane Oliveira</td>\n",
              "      <td>04/04/2019 22:37:48</td>\n",
              "      <td>Brasil</td>\n",
              "      <td>Quando  determinou que  de 31 de março 1964  u...</td>\n",
              "      <td>https://brasil.elpais.com/brasil/2019/04/05/po...</td>\n",
              "    </tr>\n",
              "    <tr>\n",
              "      <th>3</th>\n",
              "      <td>Quando os pais de Gabo perceberam que tinham u...</td>\n",
              "      <td>Gustavo Tatis percorre o universo de García Má...</td>\n",
              "      <td>Jesús Ruiz Mantilla</td>\n",
              "      <td>07/03/2019 16:38:56</td>\n",
              "      <td>Cultura</td>\n",
              "      <td>Quando  era pequeno   Luisa e  Gabriel se preo...</td>\n",
              "      <td>https://brasil.elpais.com/brasil/2019/03/06/cu...</td>\n",
              "    </tr>\n",
              "    <tr>\n",
              "      <th>4</th>\n",
              "      <td>Rádios canadenses banem músicas de Michael Jac...</td>\n",
              "      <td>Quebec Cogeco Media toma a decisão após queixa...</td>\n",
              "      <td>Jaime Porras Ferreyra</td>\n",
              "      <td>07/03/2019 16:12:37</td>\n",
              "      <td>Cultura</td>\n",
              "      <td>Desde a manhã da última segunda-feira     e   ...</td>\n",
              "      <td>https://brasil.elpais.com/brasil/2019/03/06/cu...</td>\n",
              "    </tr>\n",
              "  </tbody>\n",
              "</table>\n",
              "</div>"
            ],
            "text/plain": [
              "                                               title  \\\n",
              "0  “A sociedade foi Rubens Paiva  não os facínora...   \n",
              "1  Justiça suspende decisão que proibia Forças Ar...   \n",
              "2  Governo Bolsonaro prega “negacionismo históric...   \n",
              "3  Quando os pais de Gabo perceberam que tinham u...   \n",
              "4  Rádios canadenses banem músicas de Michael Jac...   \n",
              "\n",
              "                                            subtitle                 author  \\\n",
              "0  A decisão da juíza que proíbe as Forças Armada...                  F. M.   \n",
              "1  Liminar havia sido concedida na sexta-feira a ...           Marina Rossi   \n",
              "2  Marcos Napolitano  professor da USP  diz que o...       Regiane Oliveira   \n",
              "3  Gustavo Tatis percorre o universo de García Má...    Jesús Ruiz Mantilla   \n",
              "4  Quebec Cogeco Media toma a decisão após queixa...  Jaime Porras Ferreyra   \n",
              "\n",
              "                  date  section  \\\n",
              "0  30/03/2019 00:11:08   Brasil   \n",
              "1  30/03/2019 16:17:59   Brasil   \n",
              "2  04/04/2019 22:37:48   Brasil   \n",
              "3  07/03/2019 16:38:56  Cultura   \n",
              "4  07/03/2019 16:12:37  Cultura   \n",
              "\n",
              "                                                text  \\\n",
              "0  A juíza federal Ivani Silva da Luz  de Brasíli...   \n",
              "1  Menos de 24 horas depois de a juíza federal Iv...   \n",
              "2  Quando  determinou que  de 31 de março 1964  u...   \n",
              "3  Quando  era pequeno   Luisa e  Gabriel se preo...   \n",
              "4  Desde a manhã da última segunda-feira     e   ...   \n",
              "\n",
              "                                                 url  \n",
              "0  https://brasil.elpais.com/brasil/2019/03/26/po...  \n",
              "1  https://brasil.elpais.com/brasil/2019/03/30/po...  \n",
              "2  https://brasil.elpais.com/brasil/2019/04/05/po...  \n",
              "3  https://brasil.elpais.com/brasil/2019/03/06/cu...  \n",
              "4  https://brasil.elpais.com/brasil/2019/03/06/cu...  "
            ]
          },
          "metadata": {
            "tags": []
          },
          "execution_count": 30
        }
      ]
    },
    {
      "cell_type": "code",
      "metadata": {
        "id": "noJ8ob8NDse3",
        "colab_type": "code",
        "colab": {
          "base_uri": "https://localhost:8080/",
          "height": 204
        },
        "outputId": "4e6840f1-0808-42d4-a71a-eb6f9555cdea"
      },
      "source": [
        "textData = pd.DataFrame(data['text'], columns=['text'])\n",
        "textData['tokenizedText'] = data.apply(lambda row: nltk.word_tokenize(row['text'].lower(), language='portuguese'), axis=1)\n",
        "textData.head()"
      ],
      "execution_count": 31,
      "outputs": [
        {
          "output_type": "execute_result",
          "data": {
            "text/html": [
              "<div>\n",
              "<style scoped>\n",
              "    .dataframe tbody tr th:only-of-type {\n",
              "        vertical-align: middle;\n",
              "    }\n",
              "\n",
              "    .dataframe tbody tr th {\n",
              "        vertical-align: top;\n",
              "    }\n",
              "\n",
              "    .dataframe thead th {\n",
              "        text-align: right;\n",
              "    }\n",
              "</style>\n",
              "<table border=\"1\" class=\"dataframe\">\n",
              "  <thead>\n",
              "    <tr style=\"text-align: right;\">\n",
              "      <th></th>\n",
              "      <th>text</th>\n",
              "      <th>tokenizedText</th>\n",
              "    </tr>\n",
              "  </thead>\n",
              "  <tbody>\n",
              "    <tr>\n",
              "      <th>0</th>\n",
              "      <td>A juíza federal Ivani Silva da Luz  de Brasíli...</td>\n",
              "      <td>[a, juíza, federal, ivani, silva, da, luz, de,...</td>\n",
              "    </tr>\n",
              "    <tr>\n",
              "      <th>1</th>\n",
              "      <td>Menos de 24 horas depois de a juíza federal Iv...</td>\n",
              "      <td>[menos, de, 24, horas, depois, de, a, juíza, f...</td>\n",
              "    </tr>\n",
              "    <tr>\n",
              "      <th>2</th>\n",
              "      <td>Quando  determinou que  de 31 de março 1964  u...</td>\n",
              "      <td>[quando, determinou, que, de, 31, de, março, 1...</td>\n",
              "    </tr>\n",
              "    <tr>\n",
              "      <th>3</th>\n",
              "      <td>Quando  era pequeno   Luisa e  Gabriel se preo...</td>\n",
              "      <td>[quando, era, pequeno, luisa, e, gabriel, se, ...</td>\n",
              "    </tr>\n",
              "    <tr>\n",
              "      <th>4</th>\n",
              "      <td>Desde a manhã da última segunda-feira     e   ...</td>\n",
              "      <td>[desde, a, manhã, da, última, segunda-feira, e...</td>\n",
              "    </tr>\n",
              "  </tbody>\n",
              "</table>\n",
              "</div>"
            ],
            "text/plain": [
              "                                                text  \\\n",
              "0  A juíza federal Ivani Silva da Luz  de Brasíli...   \n",
              "1  Menos de 24 horas depois de a juíza federal Iv...   \n",
              "2  Quando  determinou que  de 31 de março 1964  u...   \n",
              "3  Quando  era pequeno   Luisa e  Gabriel se preo...   \n",
              "4  Desde a manhã da última segunda-feira     e   ...   \n",
              "\n",
              "                                       tokenizedText  \n",
              "0  [a, juíza, federal, ivani, silva, da, luz, de,...  \n",
              "1  [menos, de, 24, horas, depois, de, a, juíza, f...  \n",
              "2  [quando, determinou, que, de, 31, de, março, 1...  \n",
              "3  [quando, era, pequeno, luisa, e, gabriel, se, ...  \n",
              "4  [desde, a, manhã, da, última, segunda-feira, e...  "
            ]
          },
          "metadata": {
            "tags": []
          },
          "execution_count": 31
        }
      ]
    },
    {
      "cell_type": "markdown",
      "metadata": {
        "id": "zylT1XzzDuZ-",
        "colab_type": "text"
      },
      "source": [
        "Acima, mostramos os documentos com os textos originais e os textos tokenizados. Agora iremos construir de fato o indíce invertido, removendo as **stopwords** e as palavras com tamanho menor que 3. \n",
        "\n",
        "Para a construção desse indíce, utilizaremos o *dicionário* de Python."
      ]
    },
    {
      "cell_type": "code",
      "metadata": {
        "id": "3oVpY_poDwNQ",
        "colab_type": "code",
        "colab": {}
      },
      "source": [
        "stopwords = nltk.corpus.stopwords.words('portuguese')\n",
        "\n",
        "index = {}\n",
        "document = 0\n",
        "\n",
        "for wordList in textData.tokenizedText:\n",
        "  document += 1\n",
        "  for word in wordList:\n",
        "    if word not in stopwords and len(word) >= 3:      \n",
        "      if word not in index.keys():\n",
        "        index[word] = []\n",
        "      index[word].append(document)\n",
        "      \n",
        "for elem in index.items():\n",
        "  d = dict(collections.Counter(elem[1]))\n",
        "  index[elem[0]] = list(d.items())\n",
        "  \n",
        "        "
      ],
      "execution_count": 0,
      "outputs": []
    },
    {
      "cell_type": "markdown",
      "metadata": {
        "id": "6nmusH-ZDzBJ",
        "colab_type": "text"
      },
      "source": [
        "Agora transformaremos esse indíce em um _dataframe_ da biblioteca _pandas_ e então o transformaremos em um arquivo **.csv**."
      ]
    },
    {
      "cell_type": "code",
      "metadata": {
        "id": "YRksPnI_DxcY",
        "colab_type": "code",
        "colab": {
          "base_uri": "https://localhost:8080/",
          "height": 359
        },
        "outputId": "c937d0d0-0328-4396-bc9d-d520c5dc8f2f"
      },
      "source": [
        "indexed_data = pd.DataFrame()\n",
        "\n",
        "indexed_data['Word'] = [word for word in index.keys()]\n",
        "indexed_data['Documents'] = [docs for docs in index.values()]\n",
        "\n",
        "indexed_data.to_csv('indexed_data.csv', encoding='utf-8', index=False)\n",
        "\n",
        "indexed_data.head(10)"
      ],
      "execution_count": 33,
      "outputs": [
        {
          "output_type": "execute_result",
          "data": {
            "text/html": [
              "<div>\n",
              "<style scoped>\n",
              "    .dataframe tbody tr th:only-of-type {\n",
              "        vertical-align: middle;\n",
              "    }\n",
              "\n",
              "    .dataframe tbody tr th {\n",
              "        vertical-align: top;\n",
              "    }\n",
              "\n",
              "    .dataframe thead th {\n",
              "        text-align: right;\n",
              "    }\n",
              "</style>\n",
              "<table border=\"1\" class=\"dataframe\">\n",
              "  <thead>\n",
              "    <tr style=\"text-align: right;\">\n",
              "      <th></th>\n",
              "      <th>Word</th>\n",
              "      <th>Documents</th>\n",
              "    </tr>\n",
              "  </thead>\n",
              "  <tbody>\n",
              "    <tr>\n",
              "      <th>0</th>\n",
              "      <td>juíza</td>\n",
              "      <td>[(1, 2), (2, 1)]</td>\n",
              "    </tr>\n",
              "    <tr>\n",
              "      <th>1</th>\n",
              "      <td>federal</td>\n",
              "      <td>[(1, 2), (2, 2), (3, 1), (6, 1), (7, 3), (15, ...</td>\n",
              "    </tr>\n",
              "    <tr>\n",
              "      <th>2</th>\n",
              "      <td>ivani</td>\n",
              "      <td>[(1, 1), (2, 1)]</td>\n",
              "    </tr>\n",
              "    <tr>\n",
              "      <th>3</th>\n",
              "      <td>silva</td>\n",
              "      <td>[(1, 3), (2, 1), (6, 1), (14, 1), (26, 1), (73...</td>\n",
              "    </tr>\n",
              "    <tr>\n",
              "      <th>4</th>\n",
              "      <td>luz</td>\n",
              "      <td>[(1, 3), (2, 1), (9, 1), (17, 1), (32, 2), (78...</td>\n",
              "    </tr>\n",
              "    <tr>\n",
              "      <th>5</th>\n",
              "      <td>brasília</td>\n",
              "      <td>[(1, 1), (8, 1), (33, 1), (35, 1), (44, 1), (4...</td>\n",
              "    </tr>\n",
              "    <tr>\n",
              "      <th>6</th>\n",
              "      <td>proibiu</td>\n",
              "      <td>[(1, 1), (2, 1), (119, 1), (162, 1)]</td>\n",
              "    </tr>\n",
              "    <tr>\n",
              "      <th>7</th>\n",
              "      <td>caráter</td>\n",
              "      <td>[(1, 1), (15, 1), (36, 1), (60, 1), (89, 1), (...</td>\n",
              "    </tr>\n",
              "    <tr>\n",
              "      <th>8</th>\n",
              "      <td>liminar</td>\n",
              "      <td>[(1, 1), (2, 3), (119, 1), (217, 1)]</td>\n",
              "    </tr>\n",
              "    <tr>\n",
              "      <th>9</th>\n",
              "      <td>nesta</td>\n",
              "      <td>[(1, 2), (4, 1), (8, 1), (21, 1), (22, 2), (23...</td>\n",
              "    </tr>\n",
              "  </tbody>\n",
              "</table>\n",
              "</div>"
            ],
            "text/plain": [
              "       Word                                          Documents\n",
              "0     juíza                                   [(1, 2), (2, 1)]\n",
              "1   federal  [(1, 2), (2, 2), (3, 1), (6, 1), (7, 3), (15, ...\n",
              "2     ivani                                   [(1, 1), (2, 1)]\n",
              "3     silva  [(1, 3), (2, 1), (6, 1), (14, 1), (26, 1), (73...\n",
              "4       luz  [(1, 3), (2, 1), (9, 1), (17, 1), (32, 2), (78...\n",
              "5  brasília  [(1, 1), (8, 1), (33, 1), (35, 1), (44, 1), (4...\n",
              "6   proibiu               [(1, 1), (2, 1), (119, 1), (162, 1)]\n",
              "7   caráter  [(1, 1), (15, 1), (36, 1), (60, 1), (89, 1), (...\n",
              "8   liminar               [(1, 1), (2, 3), (119, 1), (217, 1)]\n",
              "9     nesta  [(1, 2), (4, 1), (8, 1), (21, 1), (22, 2), (23..."
            ]
          },
          "metadata": {
            "tags": []
          },
          "execution_count": 33
        }
      ]
    },
    {
      "cell_type": "markdown",
      "metadata": {
        "id": "LApdgOKED1SP",
        "colab_type": "text"
      },
      "source": [
        "# Questão 2\n",
        "\n",
        "Nessa parte do exercício, iremos implementar formas de consulta ao indíce que construímos anteriormente. \n",
        "\n",
        "Essas consultas são:\n",
        "\n",
        "*   Documento-por-vez\n",
        "*   Termo-por-vez"
      ]
    },
    {
      "cell_type": "code",
      "metadata": {
        "id": "HtEGIE02D4l4",
        "colab_type": "code",
        "colab": {}
      },
      "source": [
        "def documentAtATimeRetrieval(query, inverted_index, k):\n",
        "    start = time.time()\n",
        "    inverted_lists = []\n",
        "\n",
        "    r = []\n",
        "    for word in query.split(\" \"):\n",
        "        if word in inverted_index.keys():\n",
        "            inverted_lists.append(inverted_index[word])\n",
        "    for document in range(1, len(data)+1):\n",
        "        sd = 0\n",
        "        for inverted_list in inverted_lists:\n",
        "            for i in inverted_list:\n",
        "                if (i[0] == document):\n",
        "                    sd += i[1]\n",
        "                    break\n",
        "        if (sd != 0):\n",
        "          heapq.heappush(r, (sd, document))\n",
        "    \n",
        "    end = time.time() - start\n",
        "    return heapq.nlargest(k, r), end\n",
        "  \n",
        "def term_a_time(query, inverted_index, k):\n",
        "    start = time.time()\n",
        "    \n",
        "    a = {}\n",
        "    inverted_lists = []\n",
        "    r = []\n",
        "    for word in query.split(\" \"):\n",
        "        if word in inverted_index.keys():\n",
        "            inverted_lists.append(inverted_index[word])\n",
        "    for inverted_list in inverted_lists:\n",
        "        for post in inverted_list:\n",
        "            d = post[0]\n",
        "            freq = post[1]\n",
        "            if (d in a.keys()):\n",
        "                a[d] += freq\n",
        "            else:\n",
        "                a[d] = freq\n",
        "    for (d, ad) in a.items():\n",
        "        sd = ad\n",
        "        heapq.heappush(r, (sd, d))\n",
        "        \n",
        "    end = time.time() - start\n",
        "    return heapq.nlargest(k, r), end"
      ],
      "execution_count": 0,
      "outputs": []
    },
    {
      "cell_type": "markdown",
      "metadata": {
        "id": "6UtnJveaD4Z4",
        "colab_type": "text"
      },
      "source": [
        "Abaixo iremos criar um *dataFrame* para armazenar as consultas que realizaremos para testar os algoritmos."
      ]
    },
    {
      "cell_type": "code",
      "metadata": {
        "id": "11iuAhsmD7hQ",
        "colab_type": "code",
        "colab": {
          "base_uri": "https://localhost:8080/",
          "height": 204
        },
        "outputId": "f4b7fb5a-c802-4c56-8cbf-ca26c4e53f6b"
      },
      "source": [
        "queries = [\"lula\", \"bolsonaro\", \"brasil\", \"economia\", \"ditadura\"]\n",
        "k = 5\n",
        "results_doc = []\n",
        "results_term = []\n",
        "times_doc = []\n",
        "times_term = []\n",
        "\n",
        "for query in queries:\n",
        "  score_doc, time_doc = documentAtATimeRetrieval(query, index, k)\n",
        "  results_doc.append(score_doc)\n",
        "  times_doc.append(time_doc)\n",
        "  \n",
        "  score_term, time_term = termAtATimeRetrieval(query, index, k)\n",
        "  results_term.append(score_term)\n",
        "  times_term.append(time_term)\n",
        "  \n",
        "queries_df = pd.DataFrame()\n",
        "queries_df['Consulta'] = queries\n",
        "queries_df['Documento por vez'] = results_doc\n",
        "queries_df['Termo por vez'] = results_term\n",
        "queries_df['Comparativo'] = queries_df['Documento por vez'] == queries_df['Documento por vez']\n",
        "queries_df.index+=1\n",
        "queries_df"
      ],
      "execution_count": 38,
      "outputs": [
        {
          "output_type": "execute_result",
          "data": {
            "text/html": [
              "<div>\n",
              "<style scoped>\n",
              "    .dataframe tbody tr th:only-of-type {\n",
              "        vertical-align: middle;\n",
              "    }\n",
              "\n",
              "    .dataframe tbody tr th {\n",
              "        vertical-align: top;\n",
              "    }\n",
              "\n",
              "    .dataframe thead th {\n",
              "        text-align: right;\n",
              "    }\n",
              "</style>\n",
              "<table border=\"1\" class=\"dataframe\">\n",
              "  <thead>\n",
              "    <tr style=\"text-align: right;\">\n",
              "      <th></th>\n",
              "      <th>Consulta</th>\n",
              "      <th>Documento por vez</th>\n",
              "      <th>Termo por vez</th>\n",
              "      <th>Comparativo</th>\n",
              "    </tr>\n",
              "  </thead>\n",
              "  <tbody>\n",
              "    <tr>\n",
              "      <th>1</th>\n",
              "      <td>lula</td>\n",
              "      <td>[(9, 15), (3, 234), (3, 216), (2, 226), (2, 204)]</td>\n",
              "      <td>[(9, 15), (3, 234), (3, 216), (2, 226), (2, 204)]</td>\n",
              "      <td>True</td>\n",
              "    </tr>\n",
              "    <tr>\n",
              "      <th>2</th>\n",
              "      <td>bolsonaro</td>\n",
              "      <td>[(42, 151), (34, 207), (32, 166), (22, 19), (1...</td>\n",
              "      <td>[(42, 151), (34, 207), (32, 166), (22, 19), (1...</td>\n",
              "      <td>True</td>\n",
              "    </tr>\n",
              "    <tr>\n",
              "      <th>3</th>\n",
              "      <td>brasil</td>\n",
              "      <td>[(45, 151), (15, 166), (11, 19), (10, 26), (9,...</td>\n",
              "      <td>[(45, 151), (15, 166), (11, 19), (10, 26), (9,...</td>\n",
              "      <td>True</td>\n",
              "    </tr>\n",
              "    <tr>\n",
              "      <th>4</th>\n",
              "      <td>economia</td>\n",
              "      <td>[(10, 138), (8, 125), (6, 127), (6, 69), (6, 34)]</td>\n",
              "      <td>[(10, 138), (8, 125), (6, 127), (6, 69), (6, 34)]</td>\n",
              "      <td>True</td>\n",
              "    </tr>\n",
              "    <tr>\n",
              "      <th>5</th>\n",
              "      <td>ditadura</td>\n",
              "      <td>[(16, 7), (13, 238), (11, 216), (9, 172), (9, ...</td>\n",
              "      <td>[(16, 7), (13, 238), (11, 216), (9, 172), (9, ...</td>\n",
              "      <td>True</td>\n",
              "    </tr>\n",
              "  </tbody>\n",
              "</table>\n",
              "</div>"
            ],
            "text/plain": [
              "    Consulta                                  Documento por vez  \\\n",
              "1       lula  [(9, 15), (3, 234), (3, 216), (2, 226), (2, 204)]   \n",
              "2  bolsonaro  [(42, 151), (34, 207), (32, 166), (22, 19), (1...   \n",
              "3     brasil  [(45, 151), (15, 166), (11, 19), (10, 26), (9,...   \n",
              "4   economia  [(10, 138), (8, 125), (6, 127), (6, 69), (6, 34)]   \n",
              "5   ditadura  [(16, 7), (13, 238), (11, 216), (9, 172), (9, ...   \n",
              "\n",
              "                                       Termo por vez  Comparativo  \n",
              "1  [(9, 15), (3, 234), (3, 216), (2, 226), (2, 204)]         True  \n",
              "2  [(42, 151), (34, 207), (32, 166), (22, 19), (1...         True  \n",
              "3  [(45, 151), (15, 166), (11, 19), (10, 26), (9,...         True  \n",
              "4  [(10, 138), (8, 125), (6, 127), (6, 69), (6, 34)]         True  \n",
              "5  [(16, 7), (13, 238), (11, 216), (9, 172), (9, ...         True  "
            ]
          },
          "metadata": {
            "tags": []
          },
          "execution_count": 38
        }
      ]
    },
    {
      "cell_type": "markdown",
      "metadata": {
        "id": "5IEp4rVZD-Nv",
        "colab_type": "text"
      },
      "source": [
        "Abaixo iremos criar um *dataFrame* para mostrar os tempos de execução de cada um dos algoritmos implementados."
      ]
    },
    {
      "cell_type": "code",
      "metadata": {
        "id": "g6V16P2KD-pR",
        "colab_type": "code",
        "colab": {
          "base_uri": "https://localhost:8080/",
          "height": 204
        },
        "outputId": "b0d25223-bff0-4bc3-f35e-580b0be7aad8"
      },
      "source": [
        "queries_tempo_df = pd.DataFrame()\n",
        "queries_tempo_df['Tempo Médio: Documento por vez (ms)'] = times_doc\n",
        "queries_tempo_df['Tempo Médio: Termo por vez (ms)'] = times_term\n",
        "queries_tempo_df.index+=1\n",
        "queries_tempo_df"
      ],
      "execution_count": 36,
      "outputs": [
        {
          "output_type": "execute_result",
          "data": {
            "text/html": [
              "<div>\n",
              "<style scoped>\n",
              "    .dataframe tbody tr th:only-of-type {\n",
              "        vertical-align: middle;\n",
              "    }\n",
              "\n",
              "    .dataframe tbody tr th {\n",
              "        vertical-align: top;\n",
              "    }\n",
              "\n",
              "    .dataframe thead th {\n",
              "        text-align: right;\n",
              "    }\n",
              "</style>\n",
              "<table border=\"1\" class=\"dataframe\">\n",
              "  <thead>\n",
              "    <tr style=\"text-align: right;\">\n",
              "      <th></th>\n",
              "      <th>Tempo Médio: Documento por vez (ms)</th>\n",
              "      <th>Tempo Médio: Termo por vez (ms)</th>\n",
              "    </tr>\n",
              "  </thead>\n",
              "  <tbody>\n",
              "    <tr>\n",
              "      <th>1</th>\n",
              "      <td>0.001046</td>\n",
              "      <td>0.000043</td>\n",
              "    </tr>\n",
              "    <tr>\n",
              "      <th>2</th>\n",
              "      <td>0.000457</td>\n",
              "      <td>0.000017</td>\n",
              "    </tr>\n",
              "    <tr>\n",
              "      <th>3</th>\n",
              "      <td>0.000671</td>\n",
              "      <td>0.000026</td>\n",
              "    </tr>\n",
              "    <tr>\n",
              "      <th>4</th>\n",
              "      <td>0.001418</td>\n",
              "      <td>0.000060</td>\n",
              "    </tr>\n",
              "    <tr>\n",
              "      <th>5</th>\n",
              "      <td>0.002126</td>\n",
              "      <td>0.000050</td>\n",
              "    </tr>\n",
              "  </tbody>\n",
              "</table>\n",
              "</div>"
            ],
            "text/plain": [
              "   Tempo Médio: Documento por vez (ms)  Tempo Médio: Termo por vez (ms)\n",
              "1                             0.001046                         0.000043\n",
              "2                             0.000457                         0.000017\n",
              "3                             0.000671                         0.000026\n",
              "4                             0.001418                         0.000060\n",
              "5                             0.002126                         0.000050"
            ]
          },
          "metadata": {
            "tags": []
          },
          "execution_count": 36
        }
      ]
    }
  ]
}