{
  "nbformat": 4,
  "nbformat_minor": 0,
  "metadata": {
    "colab": {
      "name": "Avaliação.ipynb",
      "version": "0.3.2",
      "provenance": [],
      "toc_visible": true
    },
    "kernelspec": {
      "name": "python3",
      "display_name": "Python 3"
    }
  },
  "cells": [
    {
      "cell_type": "code",
      "metadata": {
        "id": "3NGNB-LNr7ye",
        "colab_type": "code",
        "colab": {
          "base_uri": "https://localhost:8080/",
          "height": 153
        },
        "outputId": "a050909d-2b4a-4dc4-e5ef-34bd0a48abcf"
      },
      "source": [
        "import pandas as pd\n",
        "import numpy as np\n",
        "import nltk\n",
        "import re\n",
        "import collections\n",
        "import bisect\n",
        "nltk.download('punkt')\n",
        "nltk.download('rslp')\n",
        "nltk.download('stopwords')\n",
        "\n",
        "\n",
        "nltk.download('stopwords')\n",
        "data = pd.read_csv('./results.csv', sep=',')\n",
        "json = pd.read_json('./results_final.json')\n",
        "gabarito = {json['query'][i]:json['docs'][i] for i in range(10)}\n",
        "\n",
        "textData = pd.DataFrame(data['text'], columns=['text'])\n",
        "textData['tokenizedText'] = data.apply(lambda row: nltk.word_tokenize(row['text'].lower(), language='portuguese'), axis=1)\n",
        "\n",
        "\n",
        "\n",
        "stopwords = nltk.corpus.stopwords.words('portuguese')\n",
        "\n",
        "index = {}\n",
        "document = 0\n",
        "M = textData.text.count()\n",
        "\n",
        "for wordList in textData.tokenizedText:\n",
        "  document += 1\n",
        "  for word in wordList:\n",
        "    if word not in stopwords and len(word) >= 3:      \n",
        "      if word not in index.keys():\n",
        "        index[word] = []\n",
        "      index[word].append(document)\n",
        "      \n",
        "for elem in index.items():\n",
        "  d = dict(collections.Counter(elem[1]))\n",
        "  index[elem[0]] = list(d.items())\n",
        "  \n",
        "for word in index:\n",
        "  k = len(index[word])\n",
        "  IDF = round(np.log((M+1)/k),2)\n",
        "  index[word].append(IDF)\n",
        "  "
      ],
      "execution_count": 86,
      "outputs": [
        {
          "output_type": "stream",
          "text": [
            "[nltk_data] Downloading package punkt to /root/nltk_data...\n",
            "[nltk_data]   Package punkt is already up-to-date!\n",
            "[nltk_data] Downloading package rslp to /root/nltk_data...\n",
            "[nltk_data]   Package rslp is already up-to-date!\n",
            "[nltk_data] Downloading package stopwords to /root/nltk_data...\n",
            "[nltk_data]   Package stopwords is already up-to-date!\n",
            "[nltk_data] Downloading package stopwords to /root/nltk_data...\n",
            "[nltk_data]   Package stopwords is already up-to-date!\n"
          ],
          "name": "stdout"
        }
      ]
    },
    {
      "cell_type": "markdown",
      "metadata": {
        "id": "anZegFHD1yey",
        "colab_type": "text"
      },
      "source": [
        "#Questão 1\n",
        "\n",
        "Escolha um documento dentre aqueles da base do aluno Bernardi e crie uma consulta que você acha que tem boas chances de recuperar este documento. Em seguida, avalie os resultados de tal consulta usando a métrica de avaliação Reciprocal Rank"
      ]
    },
    {
      "cell_type": "markdown",
      "metadata": {
        "id": "zMzSh36n9LST",
        "colab_type": "text"
      },
      "source": [
        "Para essa questão iremos escolher o documento 14 que trata do falecimento do neto do ex-presidente Lula e algumas reações de ódio expressadas."
      ]
    },
    {
      "cell_type": "code",
      "metadata": {
        "id": "AsBtZvJz1yL-",
        "colab_type": "code",
        "colab": {
          "base_uri": "https://localhost:8080/",
          "height": 34
        },
        "outputId": "ee038f66-7e64-4924-fb87-42963f2d0b18"
      },
      "source": [
        "ndoc = 14\n",
        "document = data.loc[ndoc]\n",
        "query = 'neto lula'\n",
        "row = data.loc[data.url == document.url]\n",
        "\n",
        "document.title"
      ],
      "execution_count": 87,
      "outputs": [
        {
          "output_type": "execute_result",
          "data": {
            "text/plain": [
              "'A morte do inocente neto de Lula soltou os monstros do ódio'"
            ]
          },
          "metadata": {
            "tags": []
          },
          "execution_count": 87
        }
      ]
    },
    {
      "cell_type": "markdown",
      "metadata": {
        "id": "gmlHn0EVGK-j",
        "colab_type": "text"
      },
      "source": [
        "Abaixo os modelos vetoriais definidos no laboratório anterior."
      ]
    },
    {
      "cell_type": "code",
      "metadata": {
        "id": "wdHehTGnAA3r",
        "colab_type": "code",
        "colab": {}
      },
      "source": [
        "def binary_vsm(query, document):\n",
        "  score = 0\n",
        "  query_tokens = query.split()\n",
        "  doc_tokens = document.split()\n",
        "  \n",
        "  for token in query_tokens:\n",
        "    score += (token in doc_tokens)\n",
        "    \n",
        "  return score\n",
        "\n",
        "\n",
        "def tf_vsm(query, document):\n",
        "  score = 0\n",
        "  doc_tokens = document.split()\n",
        "  query_tokens = query.split()\n",
        "  \n",
        "  for word in query_tokens:\n",
        "    score += doc_tokens.count(word)\n",
        "  \n",
        "  return score\n",
        "\n",
        "def tf_idf_vsm(query, document):\n",
        "  score = 0\n",
        "  doc_tokens = document.split()\n",
        "  query_tokens = query.split()\n",
        "  \n",
        "  for word in query_tokens:\n",
        "    cwd = doc_tokens.count(word)\n",
        "    if word in index:\n",
        "      score += cwd * index[word][-1]\n",
        "  \n",
        "  return round(score,2)\n",
        "\n",
        "\n",
        "def bm25_vsm(query, document, k):\n",
        "  score = 0\n",
        "  doc_tokens = document.split()\n",
        "  query_tokens = query.split()\n",
        "  \n",
        "  words = [word for word in query_tokens if word in doc_tokens]\n",
        "    \n",
        "  for word in words:\n",
        "    cwd = doc_tokens.count(word)\n",
        "    dfw = 0\n",
        "    if word in index:\n",
        "      dfw = len(index[word][:-1])\n",
        "    score += (((k+1) * cwd) / (cwd + k)) * np.log10(((M+1) / dfw)) if dfw != 0 else 0\n",
        "  \n",
        "  return round(score,2)\n",
        "\n",
        "\n",
        "def create_topk_models(query,k):\n",
        "  db = []\n",
        "  dtf = []\n",
        "  dtfidf = []\n",
        "  dbm25 = []\n",
        "  for i in range(len(data)):\n",
        "    doc = data.text[i].lower()\n",
        "    bisect.insort(db, (binary_vsm(query, doc), i))\n",
        "    bisect.insort(dtf, (tf_vsm(query,doc), i))\n",
        "    bisect.insort(dtfidf, (tf_idf_vsm(query,doc), i))\n",
        "    bisect.insort(dbm25, (bm25_vsm(query,doc,20), i))\n",
        "  \n",
        "  db.reverse()\n",
        "  dtf.reverse()\n",
        "  dtfidf.reverse()\n",
        "  dbm25.reverse()\n",
        "  \n",
        "  return db[:k], dtf[:k], dtfidf[:k], dbm25[:k]"
      ],
      "execution_count": 0,
      "outputs": []
    },
    {
      "cell_type": "code",
      "metadata": {
        "id": "uaWlrzOrGDze",
        "colab_type": "code",
        "colab": {}
      },
      "source": [
        "top_binary, top_tf, top_tfidf, top_bm25 = create_topk_models(query,10)"
      ],
      "execution_count": 0,
      "outputs": []
    },
    {
      "cell_type": "markdown",
      "metadata": {
        "id": "w-L-Yp0GGsQC",
        "colab_type": "text"
      },
      "source": [
        "##Resultados\n"
      ]
    },
    {
      "cell_type": "code",
      "metadata": {
        "id": "Fa3eWS7vGupq",
        "colab_type": "code",
        "colab": {
          "base_uri": "https://localhost:8080/",
          "height": 359
        },
        "outputId": "33d625a7-307c-4a16-c0b3-1a61f97d4571"
      },
      "source": [
        "query_df = pd.DataFrame()\n",
        "\n",
        "query_df['Binary'] = top_binary\n",
        "query_df['TF'] = top_tf\n",
        "query_df['TF-IDF'] = top_tfidf\n",
        "query_df['BM25'] = top_bm25\n",
        "\n",
        "query_df.index+=1\n",
        "query_df"
      ],
      "execution_count": 90,
      "outputs": [
        {
          "output_type": "execute_result",
          "data": {
            "text/html": [
              "<div>\n",
              "<style scoped>\n",
              "    .dataframe tbody tr th:only-of-type {\n",
              "        vertical-align: middle;\n",
              "    }\n",
              "\n",
              "    .dataframe tbody tr th {\n",
              "        vertical-align: top;\n",
              "    }\n",
              "\n",
              "    .dataframe thead th {\n",
              "        text-align: right;\n",
              "    }\n",
              "</style>\n",
              "<table border=\"1\" class=\"dataframe\">\n",
              "  <thead>\n",
              "    <tr style=\"text-align: right;\">\n",
              "      <th></th>\n",
              "      <th>Binary</th>\n",
              "      <th>TF</th>\n",
              "      <th>TF-IDF</th>\n",
              "      <th>BM25</th>\n",
              "    </tr>\n",
              "  </thead>\n",
              "  <tbody>\n",
              "    <tr>\n",
              "      <th>1</th>\n",
              "      <td>(2, 225)</td>\n",
              "      <td>(14, 14)</td>\n",
              "      <td>(44.56, 14)</td>\n",
              "      <td>(14.87, 14)</td>\n",
              "    </tr>\n",
              "    <tr>\n",
              "      <th>2</th>\n",
              "      <td>(2, 14)</td>\n",
              "      <td>(3, 233)</td>\n",
              "      <td>(9.52, 225)</td>\n",
              "      <td>(4.01, 225)</td>\n",
              "    </tr>\n",
              "    <tr>\n",
              "      <th>3</th>\n",
              "      <td>(1, 235)</td>\n",
              "      <td>(3, 225)</td>\n",
              "      <td>(9.12, 233)</td>\n",
              "      <td>(3.61, 233)</td>\n",
              "    </tr>\n",
              "    <tr>\n",
              "      <th>4</th>\n",
              "      <td>(1, 234)</td>\n",
              "      <td>(2, 203)</td>\n",
              "      <td>(6.08, 203)</td>\n",
              "      <td>(2.52, 203)</td>\n",
              "    </tr>\n",
              "    <tr>\n",
              "      <th>5</th>\n",
              "      <td>(1, 233)</td>\n",
              "      <td>(1, 235)</td>\n",
              "      <td>(3.44, 234)</td>\n",
              "      <td>(1.49, 234)</td>\n",
              "    </tr>\n",
              "    <tr>\n",
              "      <th>6</th>\n",
              "      <td>(1, 215)</td>\n",
              "      <td>(1, 234)</td>\n",
              "      <td>(3.44, 148)</td>\n",
              "      <td>(1.49, 148)</td>\n",
              "    </tr>\n",
              "    <tr>\n",
              "      <th>7</th>\n",
              "      <td>(1, 203)</td>\n",
              "      <td>(1, 215)</td>\n",
              "      <td>(3.44, 113)</td>\n",
              "      <td>(1.49, 113)</td>\n",
              "    </tr>\n",
              "    <tr>\n",
              "      <th>8</th>\n",
              "      <td>(1, 171)</td>\n",
              "      <td>(1, 171)</td>\n",
              "      <td>(3.44, 64)</td>\n",
              "      <td>(1.49, 64)</td>\n",
              "    </tr>\n",
              "    <tr>\n",
              "      <th>9</th>\n",
              "      <td>(1, 167)</td>\n",
              "      <td>(1, 167)</td>\n",
              "      <td>(3.44, 33)</td>\n",
              "      <td>(1.49, 33)</td>\n",
              "    </tr>\n",
              "    <tr>\n",
              "      <th>10</th>\n",
              "      <td>(1, 148)</td>\n",
              "      <td>(1, 148)</td>\n",
              "      <td>(3.04, 235)</td>\n",
              "      <td>(1.32, 235)</td>\n",
              "    </tr>\n",
              "  </tbody>\n",
              "</table>\n",
              "</div>"
            ],
            "text/plain": [
              "      Binary        TF       TF-IDF         BM25\n",
              "1   (2, 225)  (14, 14)  (44.56, 14)  (14.87, 14)\n",
              "2    (2, 14)  (3, 233)  (9.52, 225)  (4.01, 225)\n",
              "3   (1, 235)  (3, 225)  (9.12, 233)  (3.61, 233)\n",
              "4   (1, 234)  (2, 203)  (6.08, 203)  (2.52, 203)\n",
              "5   (1, 233)  (1, 235)  (3.44, 234)  (1.49, 234)\n",
              "6   (1, 215)  (1, 234)  (3.44, 148)  (1.49, 148)\n",
              "7   (1, 203)  (1, 215)  (3.44, 113)  (1.49, 113)\n",
              "8   (1, 171)  (1, 171)   (3.44, 64)   (1.49, 64)\n",
              "9   (1, 167)  (1, 167)   (3.44, 33)   (1.49, 33)\n",
              "10  (1, 148)  (1, 148)  (3.04, 235)  (1.32, 235)"
            ]
          },
          "metadata": {
            "tags": []
          },
          "execution_count": 90
        }
      ]
    },
    {
      "cell_type": "markdown",
      "metadata": {
        "id": "tjTJjiRSHNEl",
        "colab_type": "text"
      },
      "source": [
        "Para a análise dos resultados utilizaremos o reciprocal rank como indicado no enunciado da questão.\n"
      ]
    },
    {
      "cell_type": "code",
      "metadata": {
        "id": "BjNVl8zzHT9V",
        "colab_type": "code",
        "colab": {
          "base_uri": "https://localhost:8080/",
          "height": 80
        },
        "outputId": "ff958049-8ffb-4b78-c42c-285a84df0316"
      },
      "source": [
        "def reciprocal_rank(tuples, docId):\n",
        "  n = 1.0;\n",
        "  for r,doc in tuples:\n",
        "    if doc == docId:\n",
        "      return  [round(1 / n, 2)]\n",
        "    else:\n",
        "      n += 1\n",
        "\n",
        "rank_df = pd.DataFrame()\n",
        "rank_df['Binary'] = reciprocal_rank(query_df['Binary'], ndoc)\n",
        "rank_df['TF'] = reciprocal_rank(query_df['TF'], ndoc)\n",
        "rank_df['TF-IDF'] = reciprocal_rank(query_df['TF-IDF'], ndoc)\n",
        "rank_df['BM25'] = reciprocal_rank(query_df['BM25'], ndoc)\n",
        "rank_df.index+=1\n",
        "rank_df"
      ],
      "execution_count": 91,
      "outputs": [
        {
          "output_type": "execute_result",
          "data": {
            "text/html": [
              "<div>\n",
              "<style scoped>\n",
              "    .dataframe tbody tr th:only-of-type {\n",
              "        vertical-align: middle;\n",
              "    }\n",
              "\n",
              "    .dataframe tbody tr th {\n",
              "        vertical-align: top;\n",
              "    }\n",
              "\n",
              "    .dataframe thead th {\n",
              "        text-align: right;\n",
              "    }\n",
              "</style>\n",
              "<table border=\"1\" class=\"dataframe\">\n",
              "  <thead>\n",
              "    <tr style=\"text-align: right;\">\n",
              "      <th></th>\n",
              "      <th>Binary</th>\n",
              "      <th>TF</th>\n",
              "      <th>TF-IDF</th>\n",
              "      <th>BM25</th>\n",
              "    </tr>\n",
              "  </thead>\n",
              "  <tbody>\n",
              "    <tr>\n",
              "      <th>1</th>\n",
              "      <td>0.5</td>\n",
              "      <td>1.0</td>\n",
              "      <td>1.0</td>\n",
              "      <td>1.0</td>\n",
              "    </tr>\n",
              "  </tbody>\n",
              "</table>\n",
              "</div>"
            ],
            "text/plain": [
              "   Binary   TF  TF-IDF  BM25\n",
              "1     0.5  1.0     1.0   1.0"
            ]
          },
          "metadata": {
            "tags": []
          },
          "execution_count": 91
        }
      ]
    },
    {
      "cell_type": "markdown",
      "metadata": {
        "id": "41CiOKvl2Ogu",
        "colab_type": "text"
      },
      "source": [
        "#Questão 2\n",
        "\n",
        "A partir do gabarito fornecido em OBS1, calcule o MAP para cada algoritmo abaixo e aponte qual obteve o melhor resultado. Para os cálculos do MAP, considere que um documento é relevante para uma dada consulta se este documento estiver entre os documentos do gabarito para essa consulta, senão ele deve ser considerado irrelevante. "
      ]
    },
    {
      "cell_type": "code",
      "metadata": {
        "id": "zrvgSFyaGtx6",
        "colab_type": "code",
        "colab": {}
      },
      "source": [
        "def doc_indexes(model):\n",
        "  return [doc for score,doc in model]\n",
        "\n",
        "def intersection(a,b):\n",
        "  return [elem for elem in a if elem in b]\n",
        "\n",
        "def calc_AP(query):\n",
        "  relevant_docs = []\n",
        "\n",
        "  for doc_info in gabarito[query]:\n",
        "    row = data.loc[data.url == doc_info['URL']]\n",
        "    relevant_docs.append(row.index[0])\n",
        "  \n",
        "  binary, tf, tfidf, bm25 = create_topk_models(query, 5)\n",
        "  binary = doc_indexes(binary)\n",
        "  tf = doc_indexes(tf)\n",
        "  tfidf = doc_indexes(tfidf)\n",
        "  bm25 = doc_indexes(bm25)\n",
        "  \n",
        "  ap_binary = len(intersection(binary, relevant_docs)) / len(binary)\n",
        "  ap_tf = len(intersection(tf, relevant_docs)) / len(tf)\n",
        "  ap_tfidf = len(intersection(tfidf, relevant_docs)) / len(tfidf)\n",
        "  ap_bm25 = len(intersection(bm25, relevant_docs)) / len(bm25)\n",
        "  \n",
        "  return ap_binary, ap_tf, ap_tfidf, ap_bm25\n",
        "  \n",
        "def calc_MAP(queries):\n",
        "  sum_binary = 0\n",
        "  sum_tf = 0\n",
        "  sum_tfidf = 0\n",
        "  sum_bm25 = 0\n",
        "  \n",
        "  for query in queries:\n",
        "    ap_binary, ap_tf, ap_tfidf, ap_bm25 = calc_AP(query)\n",
        "    sum_binary += ap_binary\n",
        "    sum_tf += ap_tf\n",
        "    sum_tfidf += ap_tfidf\n",
        "    sum_bm25 += ap_bm25\n",
        "  \n",
        "  map_binary = round(sum_binary / len(queries),2)\n",
        "  map_tf = round(sum_tf / len(queries),2)\n",
        "  map_tfidf = round(sum_tfidf / len(queries),2)\n",
        "  map_bm25 = round(sum_bm25 / len(queries),2)\n",
        "  \n",
        "  return map_binary, map_tf, map_tfidf, map_bm25\n",
        "\n",
        "\n",
        "map_binary, map_tf, map_tfidf, map_bm25 = calc_MAP(gabarito.keys())"
      ],
      "execution_count": 0,
      "outputs": []
    },
    {
      "cell_type": "markdown",
      "metadata": {
        "id": "hTIm1fuMNnBy",
        "colab_type": "text"
      },
      "source": [
        "##Resultados\n",
        "\n",
        "Abaixo podemos observar o que o **MAP** de todos os algoritmos é muito baixo, isso nos mostra uma precisão extremamente baixa quando procuramos documentos específicos."
      ]
    },
    {
      "cell_type": "code",
      "metadata": {
        "id": "SviAOs5UNoHj",
        "colab_type": "code",
        "colab": {
          "base_uri": "https://localhost:8080/",
          "height": 80
        },
        "outputId": "8a0933c0-79d1-4e5b-ecaa-f9d2dab2636f"
      },
      "source": [
        "rank_df = pd.DataFrame()\n",
        "rank_df['Binary'] = [map_binary]\n",
        "rank_df['TF'] = [map_tf]\n",
        "rank_df['TF-IDF'] = [map_tfidf]\n",
        "rank_df['BM25'] = [map_bm25]\n",
        "rank_df.index+=1\n",
        "rank_df"
      ],
      "execution_count": 93,
      "outputs": [
        {
          "output_type": "execute_result",
          "data": {
            "text/html": [
              "<div>\n",
              "<style scoped>\n",
              "    .dataframe tbody tr th:only-of-type {\n",
              "        vertical-align: middle;\n",
              "    }\n",
              "\n",
              "    .dataframe tbody tr th {\n",
              "        vertical-align: top;\n",
              "    }\n",
              "\n",
              "    .dataframe thead th {\n",
              "        text-align: right;\n",
              "    }\n",
              "</style>\n",
              "<table border=\"1\" class=\"dataframe\">\n",
              "  <thead>\n",
              "    <tr style=\"text-align: right;\">\n",
              "      <th></th>\n",
              "      <th>Binary</th>\n",
              "      <th>TF</th>\n",
              "      <th>TF-IDF</th>\n",
              "      <th>BM25</th>\n",
              "    </tr>\n",
              "  </thead>\n",
              "  <tbody>\n",
              "    <tr>\n",
              "      <th>1</th>\n",
              "      <td>0.1</td>\n",
              "      <td>0.02</td>\n",
              "      <td>0.18</td>\n",
              "      <td>0.18</td>\n",
              "    </tr>\n",
              "  </tbody>\n",
              "</table>\n",
              "</div>"
            ],
            "text/plain": [
              "   Binary    TF  TF-IDF  BM25\n",
              "1     0.1  0.02    0.18  0.18"
            ]
          },
          "metadata": {
            "tags": []
          },
          "execution_count": 93
        }
      ]
    },
    {
      "cell_type": "markdown",
      "metadata": {
        "id": "-03km6P02RbL",
        "colab_type": "text"
      },
      "source": [
        "#Questão 3\n",
        "Repita Q2 usando a avaliação multi-nível DCG. Utilize o campo \"level\" do gabarito para o cálculo do DCG e do idealDCG."
      ]
    },
    {
      "cell_type": "code",
      "metadata": {
        "id": "BoqiSBqdSU2g",
        "colab_type": "code",
        "colab": {}
      },
      "source": [
        "def set_levels(m, d):\n",
        "  model = [(0, doc) for doc in m if doc not in d]\n",
        "  dic = [(v, k) for k, v in d.items()]\n",
        "  \n",
        "  res = model + dic\n",
        "  res.sort(reverse=True)\n",
        "  \n",
        "  return res\n",
        "\n",
        "def get_level(d, l):\n",
        "  for level,doc in l:\n",
        "    if doc == d:\n",
        "      return level\n",
        "\n",
        "def all_docs(bi,tf,tfidf,bm):\n",
        "  return doc_indexes(bi), doc_indexes(tf), doc_indexes(tfidf), doc_indexes(bm)\n",
        "    \n",
        "def all_levels(bi,tf,tfidf,bm, rd):\n",
        "  return set_levels(bi,rd), set_levels(tf,rd), set_levels(tfidf,rd), set_levels(bm,rd)\n",
        "\n",
        "def extract_docs(bi,tf,tfidf,bm):\n",
        "  return [doc for level,doc in bi], [doc for level,doc in tf], [doc for level,doc in tfidf], [doc for level,doc in bm]"
      ],
      "execution_count": 0,
      "outputs": []
    },
    {
      "cell_type": "code",
      "metadata": {
        "id": "HXRpPZuUOFbo",
        "colab_type": "code",
        "colab": {}
      },
      "source": [
        "def calc_dcg(model, levels):\n",
        "  dcg = 0.0\n",
        "  for i in range(1,len(model)+1):\n",
        "    doc = model[i-1]\n",
        "    level = get_level(doc, levels)\n",
        "    dcg += (2^level) / np.log2(i + 1.0)\n",
        "    \n",
        "  return dcg\n",
        "\n",
        "def dcg_models(query):\n",
        "  relevant_docs = {}\n",
        "\n",
        "  for doc_info in gabarito[query]:\n",
        "    row = data.loc[data.url == doc_info['URL']]\n",
        "    relevant_docs[row.index[0]] = doc_info['level']\n",
        "    \n",
        "  binary, tf, tfidf, bm25 = create_topk_models(query, 5)\n",
        "  binary, tf, tfidf, bm25 = all_docs(binary,tf,tfidf,bm25)\n",
        "  \n",
        "  dcg_binary = round(calc_dcg(binary, set_levels(binary, relevant_docs)),2)\n",
        "  dcg_tf = round(calc_dcg(tf, set_levels(tf, relevant_docs)),2)\n",
        "  dcg_tfidf = round(calc_dcg(tfidf, set_levels(tfidf, relevant_docs)),2)\n",
        "  dcg_bm25 = round(calc_dcg(bm25, set_levels(bm25, relevant_docs)),2)\n",
        "  \n",
        "  return dcg_binary, dcg_tf, dcg_tfidf, dcg_bm25\n",
        "\n",
        "def idcg_models(query):\n",
        "  relevant_docs = {}\n",
        "\n",
        "  for doc_info in gabarito[query]:\n",
        "    row = data.loc[data.url == doc_info['URL']]\n",
        "    relevant_docs[row.index[0]] = doc_info['level']\n",
        "    \n",
        "  binary, tf, tfidf, bm25 = create_topk_models(query, 5)\n",
        "  binary = doc_indexes(binary)\n",
        "  tf = doc_indexes(tf)\n",
        "  tfidf = doc_indexes(tfidf)\n",
        "  bm25 = doc_indexes(bm25)\n",
        "  \n",
        "  levels_binary, levels_tf, levels_tfidf, levels_bm25 = all_levels(binary,tf,tfidf,bm25,relevant_docs)\n",
        "  \n",
        "  binary, tf, tfidf, bm25 = extract_docs(levels_binary, levels_tf, levels_tfidf, levels_bm25)\n",
        "  \n",
        "  idcg_binary = round(calc_dcg(binary, levels_binary),2)\n",
        "  idcg_tf = round(calc_dcg(tf, levels_tf),2)\n",
        "  idcg_tfidf = round(calc_dcg(tfidf, levels_tfidf),2)\n",
        "  idcg_bm25 = round(calc_dcg(bm25, levels_bm25),2)\n",
        "  \n",
        "  return idcg_binary, idcg_tf, idcg_tfidf, idcg_bm25"
      ],
      "execution_count": 0,
      "outputs": []
    },
    {
      "cell_type": "code",
      "metadata": {
        "id": "zK1NsrEhVBVl",
        "colab_type": "code",
        "colab": {}
      },
      "source": [
        "\n",
        "queries_results = {}\n",
        "for query in gabarito.keys():\n",
        "  dcg_binary, dcg_tf, dcg_tfidf, dcg_bm25 = dcg_models(query)\n",
        "  idcg_binary, idcg_tf, idcg_tfidf, idcg_bm25 = idcg_models(query)\n",
        "  \n",
        "  binary = (dcg_binary, idcg_binary)\n",
        "  tf = (dcg_tf, idcg_tf)\n",
        "  tfidf = (dcg_tfidf, idcg_tfidf)\n",
        "  bm25 = (dcg_bm25, idcg_bm25)\n",
        "  \n",
        "  results = [binary, tf, tfidf, bm25]\n",
        "  \n",
        "  queries_results[query] = results"
      ],
      "execution_count": 0,
      "outputs": []
    },
    {
      "cell_type": "markdown",
      "metadata": {
        "id": "onDgm6SvSWdU",
        "colab_type": "text"
      },
      "source": [
        "##Resultados\n",
        "\n",
        "Abaixo apresentaremos um data frame em que cada coluna representa um modelo vetorial e seus respectivos resultados para as métricas DCG e IDCG, respectivamente."
      ]
    },
    {
      "cell_type": "code",
      "metadata": {
        "id": "_7l9HQ1sSYFE",
        "colab_type": "code",
        "colab": {
          "base_uri": "https://localhost:8080/",
          "height": 359
        },
        "outputId": "ba6401e8-2caf-40be-b734-38cc80f21f17"
      },
      "source": [
        "results_df = pd.DataFrame()\n",
        "results_df['Query'] = gabarito.keys()\n",
        "results_df['Binary'] = [queries_results[query][0] for query in gabarito.keys()]\n",
        "results_df['TF'] = [queries_results[query][1] for query in gabarito.keys()]\n",
        "results_df['TF-IDF'] = [queries_results[query][2] for query in gabarito.keys()]\n",
        "results_df['BM25'] = [queries_results[query][3] for query in gabarito.keys()]\n",
        "results_df.index+=1\n",
        "\n",
        "results_df"
      ],
      "execution_count": 97,
      "outputs": [
        {
          "output_type": "execute_result",
          "data": {
            "text/html": [
              "<div>\n",
              "<style scoped>\n",
              "    .dataframe tbody tr th:only-of-type {\n",
              "        vertical-align: middle;\n",
              "    }\n",
              "\n",
              "    .dataframe tbody tr th {\n",
              "        vertical-align: top;\n",
              "    }\n",
              "\n",
              "    .dataframe thead th {\n",
              "        text-align: right;\n",
              "    }\n",
              "</style>\n",
              "<table border=\"1\" class=\"dataframe\">\n",
              "  <thead>\n",
              "    <tr style=\"text-align: right;\">\n",
              "      <th></th>\n",
              "      <th>Query</th>\n",
              "      <th>Binary</th>\n",
              "      <th>TF</th>\n",
              "      <th>TF-IDF</th>\n",
              "      <th>BM25</th>\n",
              "    </tr>\n",
              "  </thead>\n",
              "  <tbody>\n",
              "    <tr>\n",
              "      <th>1</th>\n",
              "      <td>território palestino</td>\n",
              "      <td>(5.9, 15.65)</td>\n",
              "      <td>(5.9, 15.65)</td>\n",
              "      <td>(5.51, 14.98)</td>\n",
              "      <td>(5.51, 14.98)</td>\n",
              "    </tr>\n",
              "    <tr>\n",
              "      <th>2</th>\n",
              "      <td>recessão mundial</td>\n",
              "      <td>(11.58, 14.98)</td>\n",
              "      <td>(9.77, 14.98)</td>\n",
              "      <td>(9.77, 14.98)</td>\n",
              "      <td>(9.77, 14.98)</td>\n",
              "    </tr>\n",
              "    <tr>\n",
              "      <th>3</th>\n",
              "      <td>ditadura militar</td>\n",
              "      <td>(5.9, 17.17)</td>\n",
              "      <td>(5.9, 17.17)</td>\n",
              "      <td>(5.9, 17.17)</td>\n",
              "      <td>(5.9, 17.17)</td>\n",
              "    </tr>\n",
              "    <tr>\n",
              "      <th>4</th>\n",
              "      <td>muro das lamentações</td>\n",
              "      <td>(18.08, 19.29)</td>\n",
              "      <td>(5.9, 21.3)</td>\n",
              "      <td>(19.29, 19.29)</td>\n",
              "      <td>(19.29, 19.29)</td>\n",
              "    </tr>\n",
              "    <tr>\n",
              "      <th>5</th>\n",
              "      <td>brasil e argentina</td>\n",
              "      <td>(8.9, 17.5)</td>\n",
              "      <td>(5.9, 18.17)</td>\n",
              "      <td>(7.4, 17.5)</td>\n",
              "      <td>(7.79, 17.5)</td>\n",
              "    </tr>\n",
              "    <tr>\n",
              "      <th>6</th>\n",
              "      <td>golpe militar</td>\n",
              "      <td>(5.9, 20.67)</td>\n",
              "      <td>(5.9, 20.67)</td>\n",
              "      <td>(8.4, 20.04)</td>\n",
              "      <td>(8.4, 20.04)</td>\n",
              "    </tr>\n",
              "    <tr>\n",
              "      <th>7</th>\n",
              "      <td>governo bolsonaro</td>\n",
              "      <td>(5.9, 16.54)</td>\n",
              "      <td>(5.9, 16.54)</td>\n",
              "      <td>(5.9, 16.54)</td>\n",
              "      <td>(5.9, 16.54)</td>\n",
              "    </tr>\n",
              "    <tr>\n",
              "      <th>8</th>\n",
              "      <td>ministro da economia</td>\n",
              "      <td>(5.9, 17.17)</td>\n",
              "      <td>(5.9, 17.17)</td>\n",
              "      <td>(5.9, 17.17)</td>\n",
              "      <td>(5.9, 17.17)</td>\n",
              "    </tr>\n",
              "    <tr>\n",
              "      <th>9</th>\n",
              "      <td>prisão de Temer</td>\n",
              "      <td>(5.9, 13.43)</td>\n",
              "      <td>(5.9, 13.43)</td>\n",
              "      <td>(10.29, 12.05)</td>\n",
              "      <td>(10.29, 12.05)</td>\n",
              "    </tr>\n",
              "    <tr>\n",
              "      <th>10</th>\n",
              "      <td>Congresso Nacional</td>\n",
              "      <td>(5.9, 9.65)</td>\n",
              "      <td>(5.9, 9.65)</td>\n",
              "      <td>(5.9, 9.65)</td>\n",
              "      <td>(5.9, 9.65)</td>\n",
              "    </tr>\n",
              "  </tbody>\n",
              "</table>\n",
              "</div>"
            ],
            "text/plain": [
              "                   Query          Binary  ...          TF-IDF            BM25\n",
              "1   território palestino    (5.9, 15.65)  ...   (5.51, 14.98)   (5.51, 14.98)\n",
              "2       recessão mundial  (11.58, 14.98)  ...   (9.77, 14.98)   (9.77, 14.98)\n",
              "3       ditadura militar    (5.9, 17.17)  ...    (5.9, 17.17)    (5.9, 17.17)\n",
              "4   muro das lamentações  (18.08, 19.29)  ...  (19.29, 19.29)  (19.29, 19.29)\n",
              "5     brasil e argentina     (8.9, 17.5)  ...     (7.4, 17.5)    (7.79, 17.5)\n",
              "6          golpe militar    (5.9, 20.67)  ...    (8.4, 20.04)    (8.4, 20.04)\n",
              "7      governo bolsonaro    (5.9, 16.54)  ...    (5.9, 16.54)    (5.9, 16.54)\n",
              "8   ministro da economia    (5.9, 17.17)  ...    (5.9, 17.17)    (5.9, 17.17)\n",
              "9        prisão de Temer    (5.9, 13.43)  ...  (10.29, 12.05)  (10.29, 12.05)\n",
              "10    Congresso Nacional     (5.9, 9.65)  ...     (5.9, 9.65)     (5.9, 9.65)\n",
              "\n",
              "[10 rows x 5 columns]"
            ]
          },
          "metadata": {
            "tags": []
          },
          "execution_count": 97
        }
      ]
    }
  ]
}