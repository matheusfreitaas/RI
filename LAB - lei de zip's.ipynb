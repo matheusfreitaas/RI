{
 "cells": [
  {
   "cell_type": "markdown",
   "metadata": {},
   "source": [
    "Primeiramente, importamos as bibiliotecas necessárias para o desenvolvimento do lab."
   ]
  },
  {
   "cell_type": "code",
   "execution_count": 48,
   "metadata": {},
   "outputs": [],
   "source": [
    "import nltk\n",
    "from nltk.corpus import reuters\n",
    "from nltk.corpus import wordnet\n",
    "import pandas as pd\n",
    "import re"
   ]
  },
  {
   "cell_type": "markdown",
   "metadata": {},
   "source": [
    "Logo abaixo, lemos o csv com o texto a ser analisado e criamos uma coluna apenas com os caracteres que desejamos analisar, ou seja, texto com letras sem acentos. "
   ]
  },
  {
   "cell_type": "code",
   "execution_count": 57,
   "metadata": {},
   "outputs": [],
   "source": [
    "data_frame = pd.read_csv('./results.csv')\n",
    "data_frame = data_frame[['text']]\n",
    "data_frame['clean_text'] = data_frame.text.apply(lambda x: re.sub('[^A-Za-z\\']', ' ', x.lower()))\n"
   ]
  },
  {
   "cell_type": "code",
   "execution_count": 63,
   "metadata": {
    "scrolled": true
   },
   "outputs": [
    {
     "name": "stdout",
     "output_type": "stream",
     "text": [
      "                 word       n  word_rank\n",
      "0                      104327        1.0\n",
      "1                   o   14686        2.0\n",
      "2                  de   10286        3.0\n",
      "3                   a    8518        4.0\n",
      "4                 que    6554        5.0\n",
      "5                   e    5827        6.0\n",
      "6                  do    3518        7.0\n",
      "7                  em    3396        8.0\n",
      "8                  da    3090        9.0\n",
      "9                  um    2698       10.0\n",
      "10                  n    2355       11.0\n",
      "11               para    2327       12.0\n",
      "12                  s    2291       13.0\n",
      "13                 os    2231       14.0\n",
      "14                uma    2224       15.0\n",
      "15                com    2220       16.0\n",
      "16                 se    2031       17.0\n",
      "17                 no    1799       18.0\n",
      "18                 as    1778       19.0\n",
      "19                 na    1739       20.0\n",
      "20                  m    1589       21.0\n",
      "21                 es    1553       22.0\n",
      "22                por    1402       23.0\n",
      "23               como    1331       24.0\n",
      "24               mais    1206       25.0\n",
      "25                dos    1094       26.0\n",
      "26                mas     967       27.0\n",
      "27                 ao     965       28.0\n",
      "28               ncia     864       29.0\n",
      "29                rio     828       30.0\n",
      "...               ...     ...        ...\n",
      "20690      governismo       1    15778.5\n",
      "20691      conservado       1    15778.5\n",
      "20692       desistido       1    15778.5\n",
      "20693      hilaridade       1    15778.5\n",
      "20694        carnegie       1    15778.5\n",
      "20695         busquem       1    15778.5\n",
      "20696       recusaram       1    15778.5\n",
      "20697         tiranos       1    15778.5\n",
      "20698       edificada       1    15778.5\n",
      "20699       desmanche       1    15778.5\n",
      "20700            clav       1    15778.5\n",
      "20701       patologia       1    15778.5\n",
      "20702      funcionado       1    15778.5\n",
      "20703         dirigia       1    15778.5\n",
      "20704          gostei       1    15778.5\n",
      "20705      pontiagudo       1    15778.5\n",
      "20706           serna       1    15778.5\n",
      "20707     confrontada       1    15778.5\n",
      "20708         prociss       1    15778.5\n",
      "20709            eder       1    15778.5\n",
      "20710  envelhecimento       1    15778.5\n",
      "20711          cintra       1    15778.5\n",
      "20712     atrevimento       1    15778.5\n",
      "20713        cantoras       1    15778.5\n",
      "20714      beneficiou       1    15778.5\n",
      "20715        nascerem       1    15778.5\n",
      "20716       articular       1    15778.5\n",
      "20717      submetidas       1    15778.5\n",
      "20718       enriquece       1    15778.5\n",
      "20719        setorial       1    15778.5\n",
      "\n",
      "[20720 rows x 3 columns]\n"
     ]
    }
   ],
   "source": [
    "\n",
    "word_list = ' '.join(data_frame.clean_text.values).split(' ')\n",
    "words = pd.DataFrame(word_list, columns=['word'])\n",
    "word_counts = words.word.value_counts().reset_index()\n",
    "word_counts.columns = ['word', 'n']\n",
    "word_counts['word_rank'] = word_counts.n.rank(ascending=False)\n",
    "\n",
    "print word_counts\n",
    "\n",
    "\n"
   ]
  },
  {
   "cell_type": "code",
   "execution_count": null,
   "metadata": {},
   "outputs": [],
   "source": []
  }
 ],
 "metadata": {
  "kernelspec": {
   "display_name": "Python 2",
   "language": "python",
   "name": "python2"
  },
  "language_info": {
   "codemirror_mode": {
    "name": "ipython",
    "version": 2
   },
   "file_extension": ".py",
   "mimetype": "text/x-python",
   "name": "python",
   "nbconvert_exporter": "python",
   "pygments_lexer": "ipython2",
   "version": "2.7.15rc1"
  }
 },
 "nbformat": 4,
 "nbformat_minor": 2
}
